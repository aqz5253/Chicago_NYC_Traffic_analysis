{
  "cells": [
    {
      "cell_type": "code",
      "source": [
        "!pip install pyspark"
      ],
      "metadata": {
        "id": "Nt0wUpIt1TkS",
        "colab": {
          "base_uri": "https://localhost:8080/"
        },
        "outputId": "2ab6aac7-6cca-40e9-b6a1-2995c41ec4f5"
      },
      "id": "Nt0wUpIt1TkS",
      "execution_count": 1,
      "outputs": [
        {
          "output_type": "stream",
          "name": "stdout",
          "text": [
            "Collecting pyspark\n",
            "  Downloading pyspark-3.2.1.tar.gz (281.4 MB)\n",
            "\u001b[K     |████████████████████████████████| 281.4 MB 31 kB/s \n",
            "\u001b[?25hCollecting py4j==0.10.9.3\n",
            "  Downloading py4j-0.10.9.3-py2.py3-none-any.whl (198 kB)\n",
            "\u001b[K     |████████████████████████████████| 198 kB 49.3 MB/s \n",
            "\u001b[?25hBuilding wheels for collected packages: pyspark\n",
            "  Building wheel for pyspark (setup.py) ... \u001b[?25l\u001b[?25hdone\n",
            "  Created wheel for pyspark: filename=pyspark-3.2.1-py2.py3-none-any.whl size=281853642 sha256=fb4d86b6a97c4a15414456a7c91aef24c1e59ed878f7e97a76b710689ebe5462\n",
            "  Stored in directory: /root/.cache/pip/wheels/9f/f5/07/7cd8017084dce4e93e84e92efd1e1d5334db05f2e83bcef74f\n",
            "Successfully built pyspark\n",
            "Installing collected packages: py4j, pyspark\n",
            "Successfully installed py4j-0.10.9.3 pyspark-3.2.1\n"
          ]
        }
      ]
    },
    {
      "cell_type": "code",
      "execution_count": 2,
      "metadata": {
        "id": "1c932aef-3b09-48f8-a2e5-95234b80b900"
      },
      "outputs": [],
      "source": [
        "\n",
        "import os\n",
        "import pyspark\n",
        "from pyspark.sql import SparkSession\n",
        "conf = pyspark.SparkConf()\n",
        "#sc = pyspark.SparkContext(conf=conf)\n",
        "spark = SparkSession.builder\\\n",
        "        .master(\"local\")\\\n",
        "        .appName(\"Colab\")\\\n",
        "        .config('spark.ui.port', '4050')\\\n",
        "        .config(\"spark.memory.offHeap.enabled\",\"true\")\\\n",
        "        .config(\"spark.memory.offHeap.size\",\"10g\")\\\n",
        "        .getOrCreate()"
      ],
      "id": "1c932aef-3b09-48f8-a2e5-95234b80b900"
    },
    {
      "cell_type": "code",
      "execution_count": 3,
      "metadata": {
        "colab": {
          "base_uri": "https://localhost:8080/"
        },
        "id": "kbhxsj1E6eHL",
        "outputId": "32d0d5a9-3132-4710-aa7f-4870dc768dd0"
      },
      "outputs": [
        {
          "output_type": "stream",
          "name": "stdout",
          "text": [
            "Mounted at /content/drive\n"
          ]
        }
      ],
      "source": [
        "from google.colab import drive\n",
        "drive.mount('/content/drive')"
      ],
      "id": "kbhxsj1E6eHL"
    },
    {
      "cell_type": "code",
      "execution_count": 4,
      "metadata": {
        "id": "21f6daaf-3cae-440e-b5d3-f3b7b0fa96bf"
      },
      "outputs": [],
      "source": [
        "person = spark.read.option(\"header\",True).option(\"inferSchema\", True).csv(\"/content/drive/MyDrive/NewYork Dataset/Motor_Vehicle_Collisions_-_Person.csv\")"
      ],
      "id": "21f6daaf-3cae-440e-b5d3-f3b7b0fa96bf"
    },
    {
      "cell_type": "code",
      "execution_count": 5,
      "metadata": {
        "id": "20fbcde1-f322-426d-adfa-de0c61a6bacd"
      },
      "outputs": [],
      "source": [
        "vehicle = spark.read.option(\"header\",True).option(\"inferSchema\", True).csv(\"/content/drive/MyDrive/NewYork Dataset/Motor_Vehicle_Collisions_-_Vehicles.csv\")"
      ],
      "id": "20fbcde1-f322-426d-adfa-de0c61a6bacd"
    },
    {
      "cell_type": "code",
      "execution_count": 6,
      "metadata": {
        "id": "fab6d29f-d8cd-4711-9f67-0571ddbbdf2a"
      },
      "outputs": [],
      "source": [
        "crash = spark.read.option(\"header\",True).option(\"inferSchema\", True).csv(\"/content/drive/MyDrive/NewYork Dataset/Motor_Vehicle_Collisions_-_Crashes.csv\")"
      ],
      "id": "fab6d29f-d8cd-4711-9f67-0571ddbbdf2a"
    },
    {
      "cell_type": "code",
      "execution_count": 7,
      "metadata": {
        "id": "4UG3pbTiCWMd"
      },
      "outputs": [],
      "source": [
        "crash_filtered=crash.na.drop(subset=[\"CRASH DATE\",\"LATITUDE\",\"LONGITUDE\"])"
      ],
      "id": "4UG3pbTiCWMd"
    },
    {
      "cell_type": "code",
      "execution_count": 8,
      "metadata": {
        "colab": {
          "base_uri": "https://localhost:8080/"
        },
        "id": "ZmNsZ1F5SVRf",
        "outputId": "4b12a3ad-415f-470f-a2de-b49d0d15c22d"
      },
      "outputs": [
        {
          "output_type": "stream",
          "name": "stdout",
          "text": [
            "+----------+----------+-------------+--------+---------+----------+--------------------+--------------------+-----------------+--------------------+-------------------------+------------------------+-----------------------------+----------------------------+-------------------------+------------------------+--------------------------+-------------------------+-----------------------------+-----------------------------+-----------------------------+-----------------------------+-----------------------------+------------+--------------------+--------------------+--------------------+-------------------+-------------------+\n",
            "|CRASH DATE|CRASH TIME|      BOROUGH|ZIP CODE| LATITUDE| LONGITUDE|            LOCATION|      ON STREET NAME|CROSS STREET NAME|     OFF STREET NAME|NUMBER OF PERSONS INJURED|NUMBER OF PERSONS KILLED|NUMBER OF PEDESTRIANS INJURED|NUMBER OF PEDESTRIANS KILLED|NUMBER OF CYCLIST INJURED|NUMBER OF CYCLIST KILLED|NUMBER OF MOTORIST INJURED|NUMBER OF MOTORIST KILLED|CONTRIBUTING FACTOR VEHICLE 1|CONTRIBUTING FACTOR VEHICLE 2|CONTRIBUTING FACTOR VEHICLE 3|CONTRIBUTING FACTOR VEHICLE 4|CONTRIBUTING FACTOR VEHICLE 5|COLLISION_ID| VEHICLE TYPE CODE 1| VEHICLE TYPE CODE 2| VEHICLE TYPE CODE 3|VEHICLE TYPE CODE 4|VEHICLE TYPE CODE 5|\n",
            "+----------+----------+-------------+--------+---------+----------+--------------------+--------------------+-----------------+--------------------+-------------------------+------------------------+-----------------------------+----------------------------+-------------------------+------------------------+--------------------------+-------------------------+-----------------------------+-----------------------------+-----------------------------+-----------------------------+-----------------------------+------------+--------------------+--------------------+--------------------+-------------------+-------------------+\n",
            "|04/13/2021|     21:35|     BROOKLYN|   11217| 40.68358| -73.97617|(40.68358, -73.97...|                null|             null|620       ATLANTI...|                        1|                       0|                            1|                           0|                        0|                       0|                         0|                        0|                  Unspecified|                         null|                         null|                         null|                         null|     4407147|               Sedan|                null|                null|               null|               null|\n",
            "|04/12/2021|      8:25|         null|    null|      0.0|       0.0|          (0.0, 0.0)|EDSON AVENUE     ...|             null|                null|                        0|                       0|                            0|                           0|                        0|                       0|                         0|                        0|                  Unspecified|                  Unspecified|                         null|                         null|                         null|     4406885|Station Wagon/Spo...|               Sedan|                null|               null|               null|\n",
            "|05/21/2019|     22:50|     BROOKLYN|   11201| 40.69754| -73.98312|(40.69754, -73.98...|         GOLD STREET|   CONCORD STREET|                null|                        0|                       0|                            0|                           0|                        0|                       0|                         0|                        0|         Passing or Lane U...|                  Unspecified|                         null|                         null|                         null|     4136992|                �MBU|                Taxi|                null|               null|               null|\n",
            "|02/26/2021|     14:50|        BRONX|   10461|40.843464|   -73.836|(40.843464, -73.836)|                null|             null|2819      MIDDLET...|                        0|                       0|                            0|                           0|                        0|                       0|                         0|                        0|                  Unspecified|                  Unspecified|                         null|                         null|                         null|     4395664|Station Wagon/Spo...|                null|                null|               null|               null|\n",
            "|03/09/2021|     11:00|         null|    null|40.692547|-73.990974|(40.692547, -73.9...|        COURT STREET| JORALEMON STREET|                null|                        1|                       0|                            0|                           0|                        0|                       0|                         1|                        0|         Following Too Clo...|                  Unspecified|                         null|                         null|                         null|     4397513|       Pick-up Truck|               Sedan|                null|               null|               null|\n",
            "|03/31/2021|     22:20|     BROOKLYN|   11234|40.626457|   -73.918|(40.626457, -73.918)|        RALPH AVENUE|         AVENUE K|                null|                        1|                       0|                            0|                           0|                        0|                       0|                         1|                        0|          Driver Inexperience|                  Unspecified|                         null|                         null|                         null|     4403773|               Sedan|               Sedan|                null|               null|               null|\n",
            "|04/06/2021|     22:58|STATEN ISLAND|   10312|40.526894| -74.16728|(40.526894, -74.1...|      BARCLAY AVENUE|  HYLAN BOULEVARD|                null|                        7|                       0|                            0|                           0|                        0|                       0|                         7|                        0|         Failure to Yield ...|                 Unsafe Speed|                         null|                         null|                         null|     4405244|Station Wagon/Spo...|Station Wagon/Spo...|                null|               null|               null|\n",
            "|04/09/2021|     14:45|         null|    null|40.840775| -73.87246|(40.840775, -73.8...| BRONX RIVER PARKWAY|             null|                null|                        1|                       0|                            0|                           0|                        0|                       0|                         1|                        0|         Driver Inattentio...|                  Unspecified|                  Unspecified|                  Unspecified|                         null|     4405914|               Sedan|Station Wagon/Spo...|Station Wagon/Spo...|               null|               null|\n",
            "|04/14/2021|     11:00|         null|    null|40.694035| -73.72679|(40.694035, -73.7...|CROSS ISLAND PARKWAY|             null|                null|                        1|                       0|                            0|                           0|                        0|                       0|                         1|                        0|             Brakes Defective|                  Unspecified|                         null|                         null|                         null|     4407366|Station Wagon/Spo...|               Sedan|                null|               null|               null|\n",
            "|04/15/2021|     13:30|        BRONX|   10461|40.857365| -73.84657|(40.857365, -73.8...|                null|             null|1400      PELHAM ...|                        0|                       0|                            0|                           0|                        0|                       0|                         0|                        0|         Following Too Clo...|                  Unspecified|                         null|                         null|                         null|     4407778|               Sedan|           Ambulance|                null|               null|               null|\n",
            "|04/14/2021|     14:40|         null|    null|40.698807| -73.91837|(40.698807, -73.9...|       MYRTLE AVENUE|             null|                null|                        0|                       0|                            0|                           0|                        0|                       0|                         0|                        0|          Passing Too Closely|                  Unspecified|                         null|                         null|                         null|     4407461|           Box Truck|               Sedan|                null|               null|               null|\n",
            "|04/14/2021|     21:43|       QUEENS|   11429| 40.71402| -73.74827|(40.71402, -73.74...|                null|             null| 211-20    99 AVENUE|                        0|                       0|                            0|                           0|                        0|                       0|                         0|                        0|           Turning Improperly|                  Unspecified|                         null|                         null|                         null|     4407407|Station Wagon/Spo...|                null|                null|               null|               null|\n",
            "|04/16/2021|     17:40|        BRONX|   10474|   40.815| -73.89402| (40.815, -73.89402)|     GARRISON AVENUE|  LONGWOOD AVENUE|                null|                        0|                       0|                            0|                           0|                        0|                       0|                         0|                        0|                  Unspecified|                  Unspecified|                         null|                         null|                         null|     4407900|               Sedan|               Sedan|                null|               null|               null|\n",
            "|04/16/2021|      0:50|         null|    null| 40.55079| -74.20098|(40.55079, -74.20...|     HUGUENOT AVENUE|             null|                null|                        0|                       0|                            0|                           0|                        0|                       0|                         0|                        0|          Driver Inexperience|                  Unspecified|                  Unspecified|                         null|                         null|     4407760|               Sedan|Station Wagon/Spo...|               Sedan|               null|               null|\n",
            "|04/15/2021|     10:30|     BROOKLYN|   11207|40.655903| -73.89817|(40.655903, -73.8...|                null|             null|319       DE WITT...|                        0|                       0|                            0|                           0|                        0|                       0|                         0|                        0|                  Unspecified|                  Unspecified|                         null|                         null|                         null|     4407746|               Sedan|Station Wagon/Spo...|                null|               null|               null|\n",
            "|04/16/2021|     16:35|        BRONX|   10475|40.890076|-73.819855|(40.890076, -73.8...|         BOSTON ROAD|     ROPES AVENUE|                null|                        2|                       0|                            0|                           0|                        0|                       0|                         2|                        0|                 Unsafe Speed|                  Unspecified|                         null|                         null|                         null|     4408143|Station Wagon/Spo...|Station Wagon/Spo...|                null|               null|               null|\n",
            "|04/15/2021|     17:20|     BROOKLYN|   11236|40.650402| -73.89422|(40.650402, -73.8...|       GLENWOOD ROAD|  EAST 108 STREET|                null|                        1|                       0|                            0|                           0|                        0|                       0|                         1|                        0|         Following Too Clo...|                  Unspecified|                         null|                         null|                         null|     4407638|               Sedan|                 Van|                null|               null|               null|\n",
            "|04/16/2021|     21:20|    MANHATTAN|   10025| 40.79335| -73.97275|(40.79335, -73.97...|      WEST 94 STREET|         BROADWAY|                null|                        0|                       0|                            0|                           0|                        0|                       0|                         0|                        0|             Backing Unsafely|                  Unspecified|                         null|                         null|                         null|     4407958|               Sedan|                null|                null|               null|               null|\n",
            "|04/16/2021|     17:20|    MANHATTAN|   10012| 40.72538| -74.00011|(40.72538, -74.00...|       PRINCE STREET|   WOOSTER STREET|                null|                        0|                       0|                            0|                           0|                        0|                       0|                         0|                        0|         Driver Inattentio...|                  Unspecified|                         null|                         null|                         null|     4407885|Station Wagon/Spo...|               Sedan|                null|               null|               null|\n",
            "|04/15/2021|     14:30|       QUEENS|   11377| 40.75184| -73.90358|(40.75184, -73.90...|            BROADWAY|        58 STREET|                null|                        0|                       0|                            0|                           0|                        0|                       0|                         0|                        0|         Driver Inattentio...|         Driver Inattentio...|                         null|                         null|                         null|     4407616|               Sedan|Station Wagon/Spo...|                null|               null|               null|\n",
            "+----------+----------+-------------+--------+---------+----------+--------------------+--------------------+-----------------+--------------------+-------------------------+------------------------+-----------------------------+----------------------------+-------------------------+------------------------+--------------------------+-------------------------+-----------------------------+-----------------------------+-----------------------------+-----------------------------+-----------------------------+------------+--------------------+--------------------+--------------------+-------------------+-------------------+\n",
            "only showing top 20 rows\n",
            "\n"
          ]
        }
      ],
      "source": [
        "crash_filtered.show()"
      ],
      "id": "ZmNsZ1F5SVRf"
    },
    {
      "cell_type": "code",
      "execution_count": 9,
      "metadata": {
        "colab": {
          "base_uri": "https://localhost:8080/"
        },
        "id": "E21MFaGrDSu5",
        "outputId": "c7c28aa1-8481-4dfb-8298-b28dd9484025"
      },
      "outputs": [
        {
          "output_type": "execute_result",
          "data": {
            "text/plain": [
              "1888285"
            ]
          },
          "metadata": {},
          "execution_count": 9
        }
      ],
      "source": [
        "crash.count()"
      ],
      "id": "E21MFaGrDSu5"
    },
    {
      "cell_type": "code",
      "execution_count": 10,
      "metadata": {
        "id": "412oIR1jFaQg",
        "colab": {
          "base_uri": "https://localhost:8080/"
        },
        "outputId": "cda4f7ae-4962-426f-929d-f95a5de91e11"
      },
      "outputs": [
        {
          "output_type": "stream",
          "name": "stdout",
          "text": [
            "root\n",
            " |-- CRASH DATE: string (nullable = true)\n",
            " |-- CRASH TIME: string (nullable = true)\n",
            " |-- BOROUGH: string (nullable = true)\n",
            " |-- ZIP CODE: string (nullable = true)\n",
            " |-- LATITUDE: double (nullable = true)\n",
            " |-- LONGITUDE: double (nullable = true)\n",
            " |-- LOCATION: string (nullable = true)\n",
            " |-- ON STREET NAME: string (nullable = true)\n",
            " |-- CROSS STREET NAME: string (nullable = true)\n",
            " |-- OFF STREET NAME: string (nullable = true)\n",
            " |-- NUMBER OF PERSONS INJURED: string (nullable = true)\n",
            " |-- NUMBER OF PERSONS KILLED: integer (nullable = true)\n",
            " |-- NUMBER OF PEDESTRIANS INJURED: integer (nullable = true)\n",
            " |-- NUMBER OF PEDESTRIANS KILLED: integer (nullable = true)\n",
            " |-- NUMBER OF CYCLIST INJURED: integer (nullable = true)\n",
            " |-- NUMBER OF CYCLIST KILLED: string (nullable = true)\n",
            " |-- NUMBER OF MOTORIST INJURED: string (nullable = true)\n",
            " |-- NUMBER OF MOTORIST KILLED: integer (nullable = true)\n",
            " |-- CONTRIBUTING FACTOR VEHICLE 1: string (nullable = true)\n",
            " |-- CONTRIBUTING FACTOR VEHICLE 2: string (nullable = true)\n",
            " |-- CONTRIBUTING FACTOR VEHICLE 3: string (nullable = true)\n",
            " |-- CONTRIBUTING FACTOR VEHICLE 4: string (nullable = true)\n",
            " |-- CONTRIBUTING FACTOR VEHICLE 5: string (nullable = true)\n",
            " |-- COLLISION_ID: integer (nullable = true)\n",
            " |-- VEHICLE TYPE CODE 1: string (nullable = true)\n",
            " |-- VEHICLE TYPE CODE 2: string (nullable = true)\n",
            " |-- VEHICLE TYPE CODE 3: string (nullable = true)\n",
            " |-- VEHICLE TYPE CODE 4: string (nullable = true)\n",
            " |-- VEHICLE TYPE CODE 5: string (nullable = true)\n",
            "\n"
          ]
        }
      ],
      "source": [
        "crash.printSchema()"
      ],
      "id": "412oIR1jFaQg"
    },
    {
      "cell_type": "code",
      "execution_count": 11,
      "metadata": {
        "id": "BbfKamdQDS-2"
      },
      "outputs": [],
      "source": [
        "from pyspark.sql.functions import date_format\n",
        "from pyspark.sql.functions import unix_timestamp\n",
        "import pyspark.sql.functions as F\n",
        "\n",
        "crash_filtered=crash_filtered.withColumn('year',(date_format(unix_timestamp(\"CRASH DATE\", \"MM/dd/yyyy\").cast(\"timestamp\"), \"yyyy\")))\n",
        "crash_filtered=crash_filtered.withColumn('month',(date_format(unix_timestamp(\"CRASH DATE\", \"MM/dd/yyyy\").cast(\"timestamp\"), \"MM\")))"
      ],
      "id": "BbfKamdQDS-2"
    },
    {
      "cell_type": "code",
      "execution_count": 12,
      "metadata": {
        "colab": {
          "base_uri": "https://localhost:8080/"
        },
        "id": "QR57qHXyDTHL",
        "outputId": "bfe34f1b-9dd0-4777-e698-48f0c60a6123"
      },
      "outputs": [
        {
          "output_type": "stream",
          "name": "stdout",
          "text": [
            "+----+-------------------+\n",
            "|year|count(COLLISION_ID)|\n",
            "+----+-------------------+\n",
            "|2016|             192616|\n",
            "|2020|             103990|\n",
            "|2012|              85458|\n",
            "|2019|             194113|\n",
            "|2017|             217084|\n",
            "|2018|             216445|\n",
            "|2022|              30148|\n",
            "|2021|             101731|\n",
            "|null|                  0|\n",
            "|2015|             182979|\n",
            "|2014|             172738|\n",
            "|2013|             171934|\n",
            "+----+-------------------+\n",
            "\n"
          ]
        }
      ],
      "source": [
        "crash_filtered.groupBy('year').agg(F.count('COLLISION_ID')).show()"
      ],
      "id": "QR57qHXyDTHL"
    },
    {
      "cell_type": "code",
      "execution_count": 13,
      "metadata": {
        "id": "Bnq4j8WhDTNr"
      },
      "outputs": [],
      "source": [
        "\n",
        "crash_filtered=crash_filtered.filter(crash_filtered.LONGITUDE!=0.0)\n",
        "crash_filtered=crash_filtered.filter(crash_filtered.LATITUDE!=0.0)\n",
        "yearly_crash_count=crash_filtered.groupBy('year').agg(F.count('COLLISION_ID').alias(\"yearly_crash_count\"))\n",
        "monthly_crash_count=crash_filtered.groupBy('year','month').agg(F.count('COLLISION_ID').alias(\"monthly_crash_count\"))"
      ],
      "id": "Bnq4j8WhDTNr"
    },
    {
      "cell_type": "markdown",
      "source": [
        "Monthly and Yearly Crash Counts"
      ],
      "metadata": {
        "id": "AVHqv66OIirP"
      },
      "id": "AVHqv66OIirP"
    },
    {
      "cell_type": "code",
      "execution_count": 14,
      "metadata": {
        "colab": {
          "base_uri": "https://localhost:8080/"
        },
        "id": "KYK_pguaDTUV",
        "outputId": "23e2b6c0-2960-4345-bd00-ae9ccd810a32"
      },
      "outputs": [
        {
          "output_type": "stream",
          "name": "stdout",
          "text": [
            "+----+------------------+\n",
            "|year|yearly_crash_count|\n",
            "+----+------------------+\n",
            "|2016|            192181|\n",
            "|2020|            103828|\n",
            "|2012|             85458|\n",
            "|2019|            193819|\n",
            "|2017|            216992|\n",
            "|2018|            216150|\n",
            "|2022|             29204|\n",
            "|2021|            100857|\n",
            "|2015|            182979|\n",
            "|2014|            172738|\n",
            "|2013|            171933|\n",
            "+----+------------------+\n",
            "\n",
            "+----+-----+-------------------+\n",
            "|year|month|monthly_crash_count|\n",
            "+----+-----+-------------------+\n",
            "|2020|   11|               8326|\n",
            "|2020|   10|               8912|\n",
            "|2018|   07|              18528|\n",
            "|2019|   04|              15385|\n",
            "|2018|   04|              17086|\n",
            "|2021|   10|               9293|\n",
            "|2018|   10|              19070|\n",
            "|2021|   09|               8914|\n",
            "|2016|   04|               7777|\n",
            "|2019|   09|              16153|\n",
            "|2019|   07|              16943|\n",
            "|2019|   11|              15481|\n",
            "|2021|   07|               9212|\n",
            "|2019|   08|              15802|\n",
            "|2020|   03|              10187|\n",
            "|2018|   08|              18488|\n",
            "|2022|   01|               7273|\n",
            "|2016|   06|              17473|\n",
            "|2018|   12|              17875|\n",
            "|2021|   02|               6455|\n",
            "+----+-----+-------------------+\n",
            "only showing top 20 rows\n",
            "\n"
          ]
        }
      ],
      "source": [
        "yearly_crash_count.show(20)\n",
        "monthly_crash_count.show(20)"
      ],
      "id": "KYK_pguaDTUV"
    },
    {
      "cell_type": "code",
      "execution_count": 15,
      "metadata": {
        "colab": {
          "base_uri": "https://localhost:8080/"
        },
        "id": "7x06q3zJE_hs",
        "outputId": "2b366092-ca2b-4dfb-f2d3-220d5ed0fc36"
      },
      "outputs": [
        {
          "output_type": "stream",
          "name": "stdout",
          "text": [
            "+----------+----------+-------------+--------+---------+----------+--------------------+--------------------+-----------------+--------------------+-------------------------+------------------------+-----------------------------+----------------------------+-------------------------+------------------------+--------------------------+-------------------------+-----------------------------+-----------------------------+-----------------------------+-----------------------------+-----------------------------+------------+--------------------+--------------------+--------------------+-------------------+-------------------+----+-----+\n",
            "|CRASH DATE|CRASH TIME|      BOROUGH|ZIP CODE| LATITUDE| LONGITUDE|            LOCATION|      ON STREET NAME|CROSS STREET NAME|     OFF STREET NAME|NUMBER OF PERSONS INJURED|NUMBER OF PERSONS KILLED|NUMBER OF PEDESTRIANS INJURED|NUMBER OF PEDESTRIANS KILLED|NUMBER OF CYCLIST INJURED|NUMBER OF CYCLIST KILLED|NUMBER OF MOTORIST INJURED|NUMBER OF MOTORIST KILLED|CONTRIBUTING FACTOR VEHICLE 1|CONTRIBUTING FACTOR VEHICLE 2|CONTRIBUTING FACTOR VEHICLE 3|CONTRIBUTING FACTOR VEHICLE 4|CONTRIBUTING FACTOR VEHICLE 5|COLLISION_ID| VEHICLE TYPE CODE 1| VEHICLE TYPE CODE 2| VEHICLE TYPE CODE 3|VEHICLE TYPE CODE 4|VEHICLE TYPE CODE 5|year|month|\n",
            "+----------+----------+-------------+--------+---------+----------+--------------------+--------------------+-----------------+--------------------+-------------------------+------------------------+-----------------------------+----------------------------+-------------------------+------------------------+--------------------------+-------------------------+-----------------------------+-----------------------------+-----------------------------+-----------------------------+-----------------------------+------------+--------------------+--------------------+--------------------+-------------------+-------------------+----+-----+\n",
            "|04/13/2021|     21:35|     BROOKLYN|   11217| 40.68358| -73.97617|(40.68358, -73.97...|                null|             null|620       ATLANTI...|                        1|                       0|                            1|                           0|                        0|                       0|                         0|                        0|                  Unspecified|                         null|                         null|                         null|                         null|     4407147|               Sedan|                null|                null|               null|               null|2021|   04|\n",
            "|05/21/2019|     22:50|     BROOKLYN|   11201| 40.69754| -73.98312|(40.69754, -73.98...|         GOLD STREET|   CONCORD STREET|                null|                        0|                       0|                            0|                           0|                        0|                       0|                         0|                        0|         Passing or Lane U...|                  Unspecified|                         null|                         null|                         null|     4136992|                �MBU|                Taxi|                null|               null|               null|2019|   05|\n",
            "|02/26/2021|     14:50|        BRONX|   10461|40.843464|   -73.836|(40.843464, -73.836)|                null|             null|2819      MIDDLET...|                        0|                       0|                            0|                           0|                        0|                       0|                         0|                        0|                  Unspecified|                  Unspecified|                         null|                         null|                         null|     4395664|Station Wagon/Spo...|                null|                null|               null|               null|2021|   02|\n",
            "|03/09/2021|     11:00|         null|    null|40.692547|-73.990974|(40.692547, -73.9...|        COURT STREET| JORALEMON STREET|                null|                        1|                       0|                            0|                           0|                        0|                       0|                         1|                        0|         Following Too Clo...|                  Unspecified|                         null|                         null|                         null|     4397513|       Pick-up Truck|               Sedan|                null|               null|               null|2021|   03|\n",
            "|03/31/2021|     22:20|     BROOKLYN|   11234|40.626457|   -73.918|(40.626457, -73.918)|        RALPH AVENUE|         AVENUE K|                null|                        1|                       0|                            0|                           0|                        0|                       0|                         1|                        0|          Driver Inexperience|                  Unspecified|                         null|                         null|                         null|     4403773|               Sedan|               Sedan|                null|               null|               null|2021|   03|\n",
            "|04/06/2021|     22:58|STATEN ISLAND|   10312|40.526894| -74.16728|(40.526894, -74.1...|      BARCLAY AVENUE|  HYLAN BOULEVARD|                null|                        7|                       0|                            0|                           0|                        0|                       0|                         7|                        0|         Failure to Yield ...|                 Unsafe Speed|                         null|                         null|                         null|     4405244|Station Wagon/Spo...|Station Wagon/Spo...|                null|               null|               null|2021|   04|\n",
            "|04/09/2021|     14:45|         null|    null|40.840775| -73.87246|(40.840775, -73.8...| BRONX RIVER PARKWAY|             null|                null|                        1|                       0|                            0|                           0|                        0|                       0|                         1|                        0|         Driver Inattentio...|                  Unspecified|                  Unspecified|                  Unspecified|                         null|     4405914|               Sedan|Station Wagon/Spo...|Station Wagon/Spo...|               null|               null|2021|   04|\n",
            "|04/14/2021|     11:00|         null|    null|40.694035| -73.72679|(40.694035, -73.7...|CROSS ISLAND PARKWAY|             null|                null|                        1|                       0|                            0|                           0|                        0|                       0|                         1|                        0|             Brakes Defective|                  Unspecified|                         null|                         null|                         null|     4407366|Station Wagon/Spo...|               Sedan|                null|               null|               null|2021|   04|\n",
            "|04/15/2021|     13:30|        BRONX|   10461|40.857365| -73.84657|(40.857365, -73.8...|                null|             null|1400      PELHAM ...|                        0|                       0|                            0|                           0|                        0|                       0|                         0|                        0|         Following Too Clo...|                  Unspecified|                         null|                         null|                         null|     4407778|               Sedan|           Ambulance|                null|               null|               null|2021|   04|\n",
            "|04/14/2021|     14:40|         null|    null|40.698807| -73.91837|(40.698807, -73.9...|       MYRTLE AVENUE|             null|                null|                        0|                       0|                            0|                           0|                        0|                       0|                         0|                        0|          Passing Too Closely|                  Unspecified|                         null|                         null|                         null|     4407461|           Box Truck|               Sedan|                null|               null|               null|2021|   04|\n",
            "|04/14/2021|     21:43|       QUEENS|   11429| 40.71402| -73.74827|(40.71402, -73.74...|                null|             null| 211-20    99 AVENUE|                        0|                       0|                            0|                           0|                        0|                       0|                         0|                        0|           Turning Improperly|                  Unspecified|                         null|                         null|                         null|     4407407|Station Wagon/Spo...|                null|                null|               null|               null|2021|   04|\n",
            "|04/16/2021|     17:40|        BRONX|   10474|   40.815| -73.89402| (40.815, -73.89402)|     GARRISON AVENUE|  LONGWOOD AVENUE|                null|                        0|                       0|                            0|                           0|                        0|                       0|                         0|                        0|                  Unspecified|                  Unspecified|                         null|                         null|                         null|     4407900|               Sedan|               Sedan|                null|               null|               null|2021|   04|\n",
            "|04/16/2021|      0:50|         null|    null| 40.55079| -74.20098|(40.55079, -74.20...|     HUGUENOT AVENUE|             null|                null|                        0|                       0|                            0|                           0|                        0|                       0|                         0|                        0|          Driver Inexperience|                  Unspecified|                  Unspecified|                         null|                         null|     4407760|               Sedan|Station Wagon/Spo...|               Sedan|               null|               null|2021|   04|\n",
            "|04/15/2021|     10:30|     BROOKLYN|   11207|40.655903| -73.89817|(40.655903, -73.8...|                null|             null|319       DE WITT...|                        0|                       0|                            0|                           0|                        0|                       0|                         0|                        0|                  Unspecified|                  Unspecified|                         null|                         null|                         null|     4407746|               Sedan|Station Wagon/Spo...|                null|               null|               null|2021|   04|\n",
            "|04/16/2021|     16:35|        BRONX|   10475|40.890076|-73.819855|(40.890076, -73.8...|         BOSTON ROAD|     ROPES AVENUE|                null|                        2|                       0|                            0|                           0|                        0|                       0|                         2|                        0|                 Unsafe Speed|                  Unspecified|                         null|                         null|                         null|     4408143|Station Wagon/Spo...|Station Wagon/Spo...|                null|               null|               null|2021|   04|\n",
            "|04/15/2021|     17:20|     BROOKLYN|   11236|40.650402| -73.89422|(40.650402, -73.8...|       GLENWOOD ROAD|  EAST 108 STREET|                null|                        1|                       0|                            0|                           0|                        0|                       0|                         1|                        0|         Following Too Clo...|                  Unspecified|                         null|                         null|                         null|     4407638|               Sedan|                 Van|                null|               null|               null|2021|   04|\n",
            "|04/16/2021|     21:20|    MANHATTAN|   10025| 40.79335| -73.97275|(40.79335, -73.97...|      WEST 94 STREET|         BROADWAY|                null|                        0|                       0|                            0|                           0|                        0|                       0|                         0|                        0|             Backing Unsafely|                  Unspecified|                         null|                         null|                         null|     4407958|               Sedan|                null|                null|               null|               null|2021|   04|\n",
            "|04/16/2021|     17:20|    MANHATTAN|   10012| 40.72538| -74.00011|(40.72538, -74.00...|       PRINCE STREET|   WOOSTER STREET|                null|                        0|                       0|                            0|                           0|                        0|                       0|                         0|                        0|         Driver Inattentio...|                  Unspecified|                         null|                         null|                         null|     4407885|Station Wagon/Spo...|               Sedan|                null|               null|               null|2021|   04|\n",
            "|04/15/2021|     14:30|       QUEENS|   11377| 40.75184| -73.90358|(40.75184, -73.90...|            BROADWAY|        58 STREET|                null|                        0|                       0|                            0|                           0|                        0|                       0|                         0|                        0|         Driver Inattentio...|         Driver Inattentio...|                         null|                         null|                         null|     4407616|               Sedan|Station Wagon/Spo...|                null|               null|               null|2021|   04|\n",
            "|04/16/2021|     23:20|     BROOKLYN|   11226|40.649788|  -73.9622|(40.649788, -73.9...|      EAST 19 STREET|    CHURCH AVENUE|                null|                        3|                       0|                            0|                           0|                        0|                       0|                         3|                        0|                  Unspecified|                  Unspecified|                  Unspecified|                         null|                         null|     4408038|Station Wagon/Spo...|Station Wagon/Spo...|Station Wagon/Spo...|               null|               null|2021|   04|\n",
            "+----------+----------+-------------+--------+---------+----------+--------------------+--------------------+-----------------+--------------------+-------------------------+------------------------+-----------------------------+----------------------------+-------------------------+------------------------+--------------------------+-------------------------+-----------------------------+-----------------------------+-----------------------------+-----------------------------+-----------------------------+------------+--------------------+--------------------+--------------------+-------------------+-------------------+----+-----+\n",
            "only showing top 20 rows\n",
            "\n"
          ]
        }
      ],
      "source": [
        "crash_filtered.show()"
      ],
      "id": "7x06q3zJE_hs"
    },
    {
      "cell_type": "code",
      "execution_count": 16,
      "metadata": {
        "id": "_rMxHiJjE_kr"
      },
      "outputs": [],
      "source": [
        "#Table\n",
        "\n",
        "import math\n",
        "def getBins(val):\n",
        "  val=float(val)\n",
        "  bin=math.floor(val/0.3)*0.3\n",
        "  return bin\n",
        "\n",
        "getBinsUDF=pyspark.sql.functions.udf(getBins)"
      ],
      "id": "_rMxHiJjE_kr"
    },
    {
      "cell_type": "code",
      "execution_count": 17,
      "metadata": {
        "id": "QG8Z0O3yE_n0"
      },
      "outputs": [],
      "source": [
        "crash_filtered_temp=crash_filtered.withColumn('latBin',getBinsUDF('LATITUDE'))\n",
        "crash_filtered_temp=crash_filtered_temp.withColumn('longBin',getBinsUDF('LONGITUDE'))"
      ],
      "id": "QG8Z0O3yE_n0"
    },
    {
      "cell_type": "code",
      "execution_count": 18,
      "metadata": {
        "colab": {
          "base_uri": "https://localhost:8080/"
        },
        "id": "5DAK1xzMXYha",
        "outputId": "349f2f63-7c35-46d3-8638-b7c1680b5c48"
      },
      "outputs": [
        {
          "output_type": "stream",
          "name": "stdout",
          "text": [
            "+-------------------------------+\n",
            "|count(DISTINCT latBin, longBin)|\n",
            "+-------------------------------+\n",
            "|                             20|\n",
            "+-------------------------------+\n",
            "\n"
          ]
        }
      ],
      "source": [
        "crash_filtered_temp.select(F.countDistinct('latBin','longBin')).show()"
      ],
      "id": "5DAK1xzMXYha"
    },
    {
      "cell_type": "code",
      "execution_count": 19,
      "metadata": {
        "colab": {
          "base_uri": "https://localhost:8080/"
        },
        "id": "wR9JT6IwW3K3",
        "outputId": "25198273-f49f-4d9b-c701-412d26c040b0"
      },
      "outputs": [
        {
          "output_type": "stream",
          "name": "stdout",
          "text": [
            "+----------+----------+-------------+--------+---------+----------+--------------------+--------------------+-----------------+--------------------+-------------------------+------------------------+-----------------------------+----------------------------+-------------------------+------------------------+--------------------------+-------------------------+-----------------------------+-----------------------------+-----------------------------+-----------------------------+-----------------------------+------------+--------------------+--------------------+--------------------+-------------------+-------------------+----+-----+------+------------------+\n",
            "|CRASH DATE|CRASH TIME|      BOROUGH|ZIP CODE| LATITUDE| LONGITUDE|            LOCATION|      ON STREET NAME|CROSS STREET NAME|     OFF STREET NAME|NUMBER OF PERSONS INJURED|NUMBER OF PERSONS KILLED|NUMBER OF PEDESTRIANS INJURED|NUMBER OF PEDESTRIANS KILLED|NUMBER OF CYCLIST INJURED|NUMBER OF CYCLIST KILLED|NUMBER OF MOTORIST INJURED|NUMBER OF MOTORIST KILLED|CONTRIBUTING FACTOR VEHICLE 1|CONTRIBUTING FACTOR VEHICLE 2|CONTRIBUTING FACTOR VEHICLE 3|CONTRIBUTING FACTOR VEHICLE 4|CONTRIBUTING FACTOR VEHICLE 5|COLLISION_ID| VEHICLE TYPE CODE 1| VEHICLE TYPE CODE 2| VEHICLE TYPE CODE 3|VEHICLE TYPE CODE 4|VEHICLE TYPE CODE 5|year|month|latBin|           longBin|\n",
            "+----------+----------+-------------+--------+---------+----------+--------------------+--------------------+-----------------+--------------------+-------------------------+------------------------+-----------------------------+----------------------------+-------------------------+------------------------+--------------------------+-------------------------+-----------------------------+-----------------------------+-----------------------------+-----------------------------+-----------------------------+------------+--------------------+--------------------+--------------------+-------------------+-------------------+----+-----+------+------------------+\n",
            "|04/13/2021|     21:35|     BROOKLYN|   11217| 40.68358| -73.97617|(40.68358, -73.97...|                null|             null|620       ATLANTI...|                        1|                       0|                            1|                           0|                        0|                       0|                         0|                        0|                  Unspecified|                         null|                         null|                         null|                         null|     4407147|               Sedan|                null|                null|               null|               null|2021|   04|  40.5|             -74.1|\n",
            "|05/21/2019|     22:50|     BROOKLYN|   11201| 40.69754| -73.98312|(40.69754, -73.98...|         GOLD STREET|   CONCORD STREET|                null|                        0|                       0|                            0|                           0|                        0|                       0|                         0|                        0|         Passing or Lane U...|                  Unspecified|                         null|                         null|                         null|     4136992|                �MBU|                Taxi|                null|               null|               null|2019|   05|  40.5|             -74.1|\n",
            "|02/26/2021|     14:50|        BRONX|   10461|40.843464|   -73.836|(40.843464, -73.836)|                null|             null|2819      MIDDLET...|                        0|                       0|                            0|                           0|                        0|                       0|                         0|                        0|                  Unspecified|                  Unspecified|                         null|                         null|                         null|     4395664|Station Wagon/Spo...|                null|                null|               null|               null|2021|   02|  40.8|             -74.1|\n",
            "|03/09/2021|     11:00|         null|    null|40.692547|-73.990974|(40.692547, -73.9...|        COURT STREET| JORALEMON STREET|                null|                        1|                       0|                            0|                           0|                        0|                       0|                         1|                        0|         Following Too Clo...|                  Unspecified|                         null|                         null|                         null|     4397513|       Pick-up Truck|               Sedan|                null|               null|               null|2021|   03|  40.5|             -74.1|\n",
            "|03/31/2021|     22:20|     BROOKLYN|   11234|40.626457|   -73.918|(40.626457, -73.918)|        RALPH AVENUE|         AVENUE K|                null|                        1|                       0|                            0|                           0|                        0|                       0|                         1|                        0|          Driver Inexperience|                  Unspecified|                         null|                         null|                         null|     4403773|               Sedan|               Sedan|                null|               null|               null|2021|   03|  40.5|             -74.1|\n",
            "|04/06/2021|     22:58|STATEN ISLAND|   10312|40.526894| -74.16728|(40.526894, -74.1...|      BARCLAY AVENUE|  HYLAN BOULEVARD|                null|                        7|                       0|                            0|                           0|                        0|                       0|                         7|                        0|         Failure to Yield ...|                 Unsafe Speed|                         null|                         null|                         null|     4405244|Station Wagon/Spo...|Station Wagon/Spo...|                null|               null|               null|2021|   04|  40.5|-74.39999999999999|\n",
            "|04/09/2021|     14:45|         null|    null|40.840775| -73.87246|(40.840775, -73.8...| BRONX RIVER PARKWAY|             null|                null|                        1|                       0|                            0|                           0|                        0|                       0|                         1|                        0|         Driver Inattentio...|                  Unspecified|                  Unspecified|                  Unspecified|                         null|     4405914|               Sedan|Station Wagon/Spo...|Station Wagon/Spo...|               null|               null|2021|   04|  40.8|             -74.1|\n",
            "|04/14/2021|     11:00|         null|    null|40.694035| -73.72679|(40.694035, -73.7...|CROSS ISLAND PARKWAY|             null|                null|                        1|                       0|                            0|                           0|                        0|                       0|                         1|                        0|             Brakes Defective|                  Unspecified|                         null|                         null|                         null|     4407366|Station Wagon/Spo...|               Sedan|                null|               null|               null|2021|   04|  40.5|             -73.8|\n",
            "|04/15/2021|     13:30|        BRONX|   10461|40.857365| -73.84657|(40.857365, -73.8...|                null|             null|1400      PELHAM ...|                        0|                       0|                            0|                           0|                        0|                       0|                         0|                        0|         Following Too Clo...|                  Unspecified|                         null|                         null|                         null|     4407778|               Sedan|           Ambulance|                null|               null|               null|2021|   04|  40.8|             -74.1|\n",
            "|04/14/2021|     14:40|         null|    null|40.698807| -73.91837|(40.698807, -73.9...|       MYRTLE AVENUE|             null|                null|                        0|                       0|                            0|                           0|                        0|                       0|                         0|                        0|          Passing Too Closely|                  Unspecified|                         null|                         null|                         null|     4407461|           Box Truck|               Sedan|                null|               null|               null|2021|   04|  40.5|             -74.1|\n",
            "|04/14/2021|     21:43|       QUEENS|   11429| 40.71402| -73.74827|(40.71402, -73.74...|                null|             null| 211-20    99 AVENUE|                        0|                       0|                            0|                           0|                        0|                       0|                         0|                        0|           Turning Improperly|                  Unspecified|                         null|                         null|                         null|     4407407|Station Wagon/Spo...|                null|                null|               null|               null|2021|   04|  40.5|             -73.8|\n",
            "|04/16/2021|     17:40|        BRONX|   10474|   40.815| -73.89402| (40.815, -73.89402)|     GARRISON AVENUE|  LONGWOOD AVENUE|                null|                        0|                       0|                            0|                           0|                        0|                       0|                         0|                        0|                  Unspecified|                  Unspecified|                         null|                         null|                         null|     4407900|               Sedan|               Sedan|                null|               null|               null|2021|   04|  40.8|             -74.1|\n",
            "|04/16/2021|      0:50|         null|    null| 40.55079| -74.20098|(40.55079, -74.20...|     HUGUENOT AVENUE|             null|                null|                        0|                       0|                            0|                           0|                        0|                       0|                         0|                        0|          Driver Inexperience|                  Unspecified|                  Unspecified|                         null|                         null|     4407760|               Sedan|Station Wagon/Spo...|               Sedan|               null|               null|2021|   04|  40.5|-74.39999999999999|\n",
            "|04/15/2021|     10:30|     BROOKLYN|   11207|40.655903| -73.89817|(40.655903, -73.8...|                null|             null|319       DE WITT...|                        0|                       0|                            0|                           0|                        0|                       0|                         0|                        0|                  Unspecified|                  Unspecified|                         null|                         null|                         null|     4407746|               Sedan|Station Wagon/Spo...|                null|               null|               null|2021|   04|  40.5|             -74.1|\n",
            "|04/16/2021|     16:35|        BRONX|   10475|40.890076|-73.819855|(40.890076, -73.8...|         BOSTON ROAD|     ROPES AVENUE|                null|                        2|                       0|                            0|                           0|                        0|                       0|                         2|                        0|                 Unsafe Speed|                  Unspecified|                         null|                         null|                         null|     4408143|Station Wagon/Spo...|Station Wagon/Spo...|                null|               null|               null|2021|   04|  40.8|             -74.1|\n",
            "|04/15/2021|     17:20|     BROOKLYN|   11236|40.650402| -73.89422|(40.650402, -73.8...|       GLENWOOD ROAD|  EAST 108 STREET|                null|                        1|                       0|                            0|                           0|                        0|                       0|                         1|                        0|         Following Too Clo...|                  Unspecified|                         null|                         null|                         null|     4407638|               Sedan|                 Van|                null|               null|               null|2021|   04|  40.5|             -74.1|\n",
            "|04/16/2021|     21:20|    MANHATTAN|   10025| 40.79335| -73.97275|(40.79335, -73.97...|      WEST 94 STREET|         BROADWAY|                null|                        0|                       0|                            0|                           0|                        0|                       0|                         0|                        0|             Backing Unsafely|                  Unspecified|                         null|                         null|                         null|     4407958|               Sedan|                null|                null|               null|               null|2021|   04|  40.5|             -74.1|\n",
            "|04/16/2021|     17:20|    MANHATTAN|   10012| 40.72538| -74.00011|(40.72538, -74.00...|       PRINCE STREET|   WOOSTER STREET|                null|                        0|                       0|                            0|                           0|                        0|                       0|                         0|                        0|         Driver Inattentio...|                  Unspecified|                         null|                         null|                         null|     4407885|Station Wagon/Spo...|               Sedan|                null|               null|               null|2021|   04|  40.5|             -74.1|\n",
            "|04/15/2021|     14:30|       QUEENS|   11377| 40.75184| -73.90358|(40.75184, -73.90...|            BROADWAY|        58 STREET|                null|                        0|                       0|                            0|                           0|                        0|                       0|                         0|                        0|         Driver Inattentio...|         Driver Inattentio...|                         null|                         null|                         null|     4407616|               Sedan|Station Wagon/Spo...|                null|               null|               null|2021|   04|  40.5|             -74.1|\n",
            "|04/16/2021|     23:20|     BROOKLYN|   11226|40.649788|  -73.9622|(40.649788, -73.9...|      EAST 19 STREET|    CHURCH AVENUE|                null|                        3|                       0|                            0|                           0|                        0|                       0|                         3|                        0|                  Unspecified|                  Unspecified|                  Unspecified|                         null|                         null|     4408038|Station Wagon/Spo...|Station Wagon/Spo...|Station Wagon/Spo...|               null|               null|2021|   04|  40.5|             -74.1|\n",
            "+----------+----------+-------------+--------+---------+----------+--------------------+--------------------+-----------------+--------------------+-------------------------+------------------------+-----------------------------+----------------------------+-------------------------+------------------------+--------------------------+-------------------------+-----------------------------+-----------------------------+-----------------------------+-----------------------------+-----------------------------+------------+--------------------+--------------------+--------------------+-------------------+-------------------+----+-----+------+------------------+\n",
            "only showing top 20 rows\n",
            "\n"
          ]
        }
      ],
      "source": [
        "crash_filtered_temp.select('*').show()"
      ],
      "id": "wR9JT6IwW3K3"
    },
    {
      "cell_type": "code",
      "execution_count": 20,
      "metadata": {
        "id": "66m8z3zEE_wI"
      },
      "outputs": [],
      "source": [
        "contributing_factor_filtered = crash_filtered.filter((F.col('CONTRIBUTING FACTOR VEHICLE 1') != 'null') & (F.col('CONTRIBUTING FACTOR VEHICLE 1') != '1') & (F.col('CONTRIBUTING FACTOR VEHICLE 1') != '80'))"
      ],
      "id": "66m8z3zEE_wI"
    },
    {
      "cell_type": "code",
      "execution_count": 21,
      "metadata": {
        "colab": {
          "base_uri": "https://localhost:8080/"
        },
        "id": "_zP897VCE_z4",
        "outputId": "41cfd9e7-dbec-418b-b3e6-76102d62ce5f"
      },
      "outputs": [
        {
          "output_type": "execute_result",
          "data": {
            "text/plain": [
              "59"
            ]
          },
          "metadata": {},
          "execution_count": 21
        }
      ],
      "source": [
        "contributing_factor_filtered.select('CONTRIBUTING FACTOR VEHICLE 1').distinct().count()"
      ],
      "id": "_zP897VCE_z4"
    },
    {
      "cell_type": "markdown",
      "source": [
        "Prime Contributing Factor and it's Count"
      ],
      "metadata": {
        "id": "jfVvi5KMJAZy"
      },
      "id": "jfVvi5KMJAZy"
    },
    {
      "cell_type": "code",
      "execution_count": 22,
      "metadata": {
        "colab": {
          "base_uri": "https://localhost:8080/"
        },
        "id": "tlkEo2efE_4O",
        "outputId": "75fb1801-596f-46b5-88d5-0628f9b3e120"
      },
      "outputs": [
        {
          "output_type": "stream",
          "name": "stdout",
          "text": [
            "+----+-----+-----------------------------+-----------------------------+\n",
            "|year|month|contributing_factor_vehicle_1|prim_contributory_cause_count|\n",
            "+----+-----+-----------------------------+-----------------------------+\n",
            "|2021|   02|         Traffic Control D...|                            6|\n",
            "|2020|   12|               Animals Action|                            5|\n",
            "|2020|   11|         Traffic Control D...|                            2|\n",
            "|2021|   08|         Lane Marking Impr...|                            4|\n",
            "|2020|   06|              Fatigued/Drowsy|                           10|\n",
            "|2021|   10|                  Fell Asleep|                           46|\n",
            "|2021|   11|         Unsafe Lane Changing|                          167|\n",
            "|2020|   02|          Driver Inexperience|                          170|\n",
            "|2020|   01|                 Unsafe Speed|                          211|\n",
            "|2018|   09|         View Obstructed/L...|                          142|\n",
            "|2018|   04|         Failure to Yield ...|                         1202|\n",
            "|2018|   02|         Failure to Yield ...|                         1154|\n",
            "|2020|   11|           Turning Improperly|                          163|\n",
            "|2021|   10|           Pavement Defective|                           14|\n",
            "|2012|   09|         Prescription Medi...|                          266|\n",
            "|2018|   03|                  Unspecified|                         3853|\n",
            "|2021|   11|         Tire Failure/Inad...|                           11|\n",
            "|2019|   12|           Eating or Drinking|                            1|\n",
            "|2021|   12|             Brakes Defective|                           31|\n",
            "|2021|   12|            Pavement Slippery|                           64|\n",
            "+----+-----+-----------------------------+-----------------------------+\n",
            "only showing top 20 rows\n",
            "\n"
          ]
        }
      ],
      "source": [
        "#Prime contributing factor\n",
        "prime_contributory_cause_df=contributing_factor_filtered.groupBy('year','month','CONTRIBUTING FACTOR VEHICLE 1').agg(F.count('CONTRIBUTING FACTOR VEHICLE 1').alias('prim_contributory_cause_count'))\n",
        "prime_contributory_cause_df = prime_contributory_cause_df.withColumnRenamed(\"CONTRIBUTING FACTOR VEHICLE 1\",\"contributing_factor_vehicle_1\")\n",
        "prime_contributory_cause_df.show()"
      ],
      "id": "tlkEo2efE_4O"
    },
    {
      "cell_type": "code",
      "execution_count": 23,
      "metadata": {
        "id": "vSTZCswRE_66"
      },
      "outputs": [],
      "source": [
        "newyork_crash_summary_df = crash_filtered_temp.groupBy('year','month','latBin','longBin')\\\n",
        ".agg(F.count(F.col('COLLISION_ID')).alias(\"crash_count\"),\\\n",
        "     F.sum(F.col('NUMBER OF PERSONS INJURED')).alias(\"injuries_count\"),\\\n",
        "     F.sum(F.col('NUMBER OF PERSONS KILLED')).alias(\"kill_count\"))"
      ],
      "id": "vSTZCswRE_66"
    },
    {
      "cell_type": "markdown",
      "source": [
        "New York Crash Summary"
      ],
      "metadata": {
        "id": "uR9mIcDxJJrg"
      },
      "id": "uR9mIcDxJJrg"
    },
    {
      "cell_type": "code",
      "execution_count": 24,
      "metadata": {
        "colab": {
          "base_uri": "https://localhost:8080/"
        },
        "id": "hoSq1PbtE_9q",
        "outputId": "f9f0751a-442a-4197-d9a5-f085ff89943c"
      },
      "outputs": [
        {
          "output_type": "stream",
          "name": "stdout",
          "text": [
            "+----+-----+------+-------------------+-----------+--------------+----------+\n",
            "|year|month|latBin|            longBin|crash_count|injuries_count|kill_count|\n",
            "+----+-----+------+-------------------+-----------+--------------+----------+\n",
            "|2019|   06|  40.8|              -74.1|       3667|        1134.0|         3|\n",
            "|2019|   08|  40.5|              -73.8|       1579|         532.0|         0|\n",
            "|2020|   07|  40.5|              -74.1|       5356|        2498.0|        15|\n",
            "|2018|   06|  40.5|-201.29999999999998|          6|           2.0|         0|\n",
            "|2020|   05|  40.5| -74.39999999999999|        187|          60.0|         1|\n",
            "|2018|   11|  40.5|              -73.8|       1770|         539.0|         5|\n",
            "|2021|   06|  40.8|              -73.8|          2|           1.0|         0|\n",
            "|2018|   09|  40.5| -74.39999999999999|        691|         163.0|         0|\n",
            "|2018|   07|  40.8|              -73.8|         18|           0.0|         0|\n",
            "|2018|   07|  40.5|              -74.1|      12249|        3286.0|        12|\n",
            "|2020|   01|  40.5|              -74.1|       8623|        2399.0|        10|\n",
            "|2022|   04|  40.5|              -73.8|        622|         305.0|         0|\n",
            "|2019|   07|  40.5| -74.39999999999999|        356|         150.0|         1|\n",
            "|2019|   09|  40.8|              -73.8|          2|           1.0|         0|\n",
            "|2019|   05|  40.5|              -73.8|       1768|         612.0|         2|\n",
            "|2019|   02|  40.8|              -74.1|       2920|         802.0|         3|\n",
            "|2019|   03|  40.8|              -73.8|          6|           0.0|         0|\n",
            "|2021|   09|  40.5| -74.39999999999999|        292|         156.0|         0|\n",
            "|2022|   05|  40.5| -74.39999999999999|         15|           7.0|         0|\n",
            "|2019|   05|  40.8|              -74.1|       3664|        1172.0|         2|\n",
            "+----+-----+------+-------------------+-----------+--------------+----------+\n",
            "only showing top 20 rows\n",
            "\n"
          ]
        }
      ],
      "source": [
        "newyork_crash_summary_df.show()"
      ],
      "id": "hoSq1PbtE_9q"
    },
    {
      "cell_type": "code",
      "source": [
        "vehicle = vehicle.withColumn('VEHICLE_TYPE',F.when(vehicle.VEHICLE_TYPE==\"Bus\",\"BUS\")\\\n",
        "                             .when(vehicle.VEHICLE_TYPE==\"LARGE COM VEH(6 OR MORE TIRES)\",\"BUS\")\\\n",
        "                             .when(vehicle.VEHICLE_TYPE==\"Van\",\"VAN\")\\\n",
        "                             .when(vehicle.VEHICLE_TYPE==\"Van\",\"VAN\")\\\n",
        "                             .when(vehicle.VEHICLE_TYPE==\"Taxi\",\"TAXI\")\\\n",
        "                             .when(vehicle.VEHICLE_TYPE==\"PASSENGER VEHICLE\",\"TAXI\")\\\n",
        "                             .when(vehicle.VEHICLE_TYPE==\"LIVERY VEHICLE\",\"TAXI\")\\\n",
        "                             .when(vehicle.VEHICLE_TYPE==\"Motorcycle\",\"MOTORCYCLE\")\\\n",
        "                             .when(vehicle.VEHICLE_TYPE==\"4 dr sedan\",\"Sedan\")\\\n",
        "                             .when(vehicle.VEHICLE_TYPE==\"Convertible\",\"Sedan\")\\\n",
        "                             .when(vehicle.VEHICLE_TYPE==\"SMALL COM VEH(4 TIRES)\",\"Sedan\")\\\n",
        "                             .when(vehicle.VEHICLE_TYPE==\"Station Wagon/Sport Utility Vehicle\",\"Sedan\")\\\n",
        "                             .when(vehicle.VEHICLE_TYPE==\"Pick-up Truck\",\"Truck\")\\\n",
        "                             .when(vehicle.VEHICLE_TYPE==\"PICK-UP TRUCK\",\"Truck\")\\\n",
        "                             .when(vehicle.VEHICLE_TYPE==\"Dump\",\"Truck\")\\\n",
        "                             .when(vehicle.VEHICLE_TYPE==\"Tractor Truck Diesel\",\"Truck\")\\\n",
        "                             .when(vehicle.VEHICLE_TYPE==\"Box Truck\",\"Truck\")\\\n",
        "                             .otherwise(vehicle.VEHICLE_TYPE))"
      ],
      "metadata": {
        "id": "jWIFuJpgEcEs"
      },
      "id": "jWIFuJpgEcEs",
      "execution_count": 25,
      "outputs": []
    },
    {
      "cell_type": "code",
      "source": [
        "vehicle.show()"
      ],
      "metadata": {
        "colab": {
          "base_uri": "https://localhost:8080/"
        },
        "id": "nDCB6PmiEcIi",
        "outputId": "2560f431-5b18-4b5f-9a6a-31ec18611f63"
      },
      "id": "nDCB6PmiEcIi",
      "execution_count": 26,
      "outputs": [
        {
          "output_type": "stream",
          "name": "stdout",
          "text": [
            "+---------+------------+----------+----------+--------------------+------------------+------------+--------------+-------------+------------+----------------+-----------------+----------+---------------------+---------------------------+--------------------+--------------------+--------------------+--------------------+------------------+----------------+----------------------+---------------------------+---------------------+---------------------+\n",
            "|UNIQUE_ID|COLLISION_ID|CRASH_DATE|CRASH_TIME|          VEHICLE_ID|STATE_REGISTRATION|VEHICLE_TYPE|  VEHICLE_MAKE|VEHICLE_MODEL|VEHICLE_YEAR|TRAVEL_DIRECTION|VEHICLE_OCCUPANTS|DRIVER_SEX|DRIVER_LICENSE_STATUS|DRIVER_LICENSE_JURISDICTION|           PRE_CRASH|     POINT_OF_IMPACT|      VEHICLE_DAMAGE|    VEHICLE_DAMAGE_1|  VEHICLE_DAMAGE_2|VEHICLE_DAMAGE_3|PUBLIC_PROPERTY_DAMAGE|PUBLIC_PROPERTY_DAMAGE_TYPE|CONTRIBUTING_FACTOR_1|CONTRIBUTING_FACTOR_2|\n",
            "+---------+------------+----------+----------+--------------------+------------------+------------+--------------+-------------+------------+----------------+-----------------+----------+---------------------+---------------------------+--------------------+--------------------+--------------------+--------------------+------------------+----------------+----------------------+---------------------------+---------------------+---------------------+\n",
            "| 10385780|      100201|09/07/2012|      9:03|                   1|                NY|        TAXI|          null|         null|        null|            null|             null|      null|                 null|                       null|                null|                null|                null|                null|              null|            null|                  null|                       null|          Unspecified|                 null|\n",
            "| 19140702|     4213082|09/23/2019|      8:15|0553ab4d-9500-4cb...|                NY|       Sedan| TOYT -CAR/SUV|         null|        2002|           North|                1|         M|             Licensed|                         NY|Going Straight Ahead|   Left Front Bumper|Left Front Quarte...|                null|              null|            null|                     N|                       null| Driver Inattentio...|          Unspecified|\n",
            "| 14887647|     3307608|10/02/2015|     17:18|                   2|                NY|        TAXI|          null|         null|        null|            null|             null|      null|                 null|                       null|Going Straight Ahead|                null|                null|                null|              null|            null|                  null|                       null| Driver Inattentio...|                 null|\n",
            "| 14889754|     3308693|10/04/2015|     20:34|                   1|                NY|        TAXI|          null|         null|        null|            null|             null|      null|                 null|                       null|              Parked|                null|                null|                null|              null|            null|                  null|                       null|          Unspecified|                 null|\n",
            "| 14400270|      297666|04/25/2013|     21:15|                   1|                NY|        TAXI|          null|         null|        null|            null|             null|      null|                 null|                       null|                null|                null|                null|                null|              null|            null|                  null|                       null|      Other Vehicular|                 null|\n",
            "| 17044639|     3434155|05/02/2016|     17:35|              219456|                NY|       Sedan| MERZ -CAR/SUV|         null|        2015|            East|                2|         M|             Licensed|                         FL|             Merging|  Right Front Bumper|  Right Front Bumper|Right Front Quart...|              null|            null|                     N|                       null| Driver Inattentio...| Unsafe Lane Changing|\n",
            "| 19138701|     4229067|10/24/2019|     13:15|c53b43d9-419a-4ab...|                NY|         BUS|FRHT-TRUCK/BUS|         null|        2006|            East|               13|         M|             Licensed|                         NY|              Parked|Left Front Quarte...|Left Front Quarte...|                null|              null|            null|                     N|                       null|          Unspecified|          Unspecified|\n",
            "| 17303317|     3503027|08/18/2016|     12:39|              672828|                NY|       Sedan| FORD -CAR/SUV|         null|        2005|       Southwest|                2|         F|             Licensed|                         NY|Going Straight Ahead|    Center Front End|    Center Front End|           No Damage|         No Damage|       No Damage|                     N|                       null| Driver Inattentio...|          Unspecified|\n",
            "| 12254536|      196425|07/16/2013|     11:20|                   1|                NY|        TAXI|          null|         null|        null|            null|             null|      null|                 null|                       null|                null|                null|                null|                null|              null|            null|                  null|                       null|          Unspecified|                 null|\n",
            "| 11804847|     2975897|11/26/2012|     18:12|                   2|                NY|        TAXI|          null|         null|        null|            null|             null|      null|                 null|                       null|                null|                null|                null|                null|              null|            null|                  null|                       null| Driver Inattentio...|                 null|\n",
            "| 17285715|     3487936|07/22/2016|     15:40|              554272|                NY|       Sedan| VOLK -CAR/SUV|         null|        2013|           South|                1|         M|             Licensed|                         NY|  Stopped in Traffic|   Right Rear Bumper|   Right Rear Bumper|     Center Back End|  Left Rear Bumper|            null|                     N|                       null|          Unspecified|          Unspecified|\n",
            "| 14809587|     3268858|08/01/2015|      8:17|                   2|                NJ|        TAXI|          null|         null|        null|            null|             null|      null|                 null|                       null|Going Straight Ahead|                null|                null|                null|              null|            null|                  null|                       null| Passenger Distrac...|                 null|\n",
            "| 17307366|     3499697|08/13/2016|     21:05|              650962|                NY|       Sedan| NISS -CAR/SUV|         null|        2015|            West|                2|         F|             Licensed|                         NY|Going Straight Ahead|     Left Side Doors|     Left Side Doors|Left Rear Quarter...|              null|            null|                     N|                       null|          Unspecified|          Unspecified|\n",
            "| 19140791|     4229563|10/21/2019|     17:55|86a294b4-6672-4a7...|                PA|       Sedan|  BMW -CAR/SUV|         null|        2006|           North|                2|         F|             Licensed|                         PA|Going Straight Ahead|    Center Front End|  Right Front Bumper|Right Front Quart...|Right Front Bumper|            null|                     N|                       null|          Unspecified|          Unspecified|\n",
            "| 19694316|     4322767|06/06/2020|     18:30|fdc195a7-8127-4c0...|              null|        Bike|          null|         null|        null|           South|                1|         M|             Licensed|                         NY|Going Straight Ahead|    Center Front End|           No Damage|           No Damage|         No Damage|       No Damage|                     N|                       null| Traffic Control D...|          Unspecified|\n",
            "| 11912713|      176016|08/11/2012|     19:36|                   2|                NY|     BICYCLE|          null|         null|        null|            null|             null|      null|                 null|                       null|                null|                null|                null|                null|              null|            null|                  null|                       null|          Unspecified|                 null|\n",
            "| 17401424|     3516125|09/08/2016|     14:40|              764668|                NY|       Sedan| LINC -CAR/SUV|         null|        2015|            West|                1|         M|             Licensed|                         NY|  Stopped in Traffic|Right Rear Quarte...|Right Rear Quarte...|   Right Rear Bumper|         No Damage|       No Damage|                     N|                       null|          Unspecified|          Unspecified|\n",
            "|  9879462|       79561|04/09/2013|     15:10|                   1|                NY|        TAXI|          null|         null|        null|            null|             null|      null|                 null|                       null|                null|                null|                null|                null|              null|            null|                  null|                       null|          Unspecified|                 null|\n",
            "| 16952374|     3412270|04/01/2016|     15:46|               87497|                NY|       Sedan| TOYT -CAR/SUV|     TOYT 4RN|        2015|           South|                1|         M|                 null|                       null|             Passing|Right Front Quart...|           No Damage|           No Damage|         No Damage|       No Damage|                     N|                       null| Unsafe Lane Changing| Traffic Control D...|\n",
            "| 19140656|     4229538|10/24/2019|     17:30|70e5262a-bd27-48a...|                NY|       Sedan| JEEP -CAR/SUV|         null|        2018|           North|                3|         F|             Licensed|                         NY|Going Straight Ahead|Left Rear Quarter...|Left Rear Quarter...|                null|              null|            null|                     N|                       null|          Unspecified|          Unspecified|\n",
            "+---------+------------+----------+----------+--------------------+------------------+------------+--------------+-------------+------------+----------------+-----------------+----------+---------------------+---------------------------+--------------------+--------------------+--------------------+--------------------+------------------+----------------+----------------------+---------------------------+---------------------+---------------------+\n",
            "only showing top 20 rows\n",
            "\n"
          ]
        }
      ]
    },
    {
      "cell_type": "code",
      "source": [
        "vehicle=vehicle.withColumn('year',(date_format(unix_timestamp(\"CRASH_DATE\", \"MM/dd/yyyy\").cast(\"timestamp\"), \"yyyy\")))\n",
        "vehicle=vehicle.withColumn('month',(date_format(unix_timestamp(\"CRASH_DATE\", \"MM/dd/yyyy\").cast(\"timestamp\"), \"MM\")))\n",
        "vehicle_type_count=vehicle.groupBy('year','VEHICLE_TYPE').agg(F.count('VEHICLE_TYPE').alias('count'))\n",
        "vehicle_type_count=vehicle_type_count.filter(F.col('count')>5000)\n",
        "vehicle_type_count=vehicle_type_count.filter(F.col('VEHICLE_TYPE')!='UNKNOWN')\n",
        "vehicle_type_count.count()"
      ],
      "metadata": {
        "colab": {
          "base_uri": "https://localhost:8080/"
        },
        "id": "mc3r99-EEmbO",
        "outputId": "776801a1-f1f4-4047-89ae-03870485c6f8"
      },
      "id": "mc3r99-EEmbO",
      "execution_count": 27,
      "outputs": [
        {
          "output_type": "execute_result",
          "data": {
            "text/plain": [
              "57"
            ]
          },
          "metadata": {},
          "execution_count": 27
        }
      ]
    },
    {
      "cell_type": "markdown",
      "source": [
        "Vehicle Types with it's Crash Count"
      ],
      "metadata": {
        "id": "Wx7mfUc3JjPd"
      },
      "id": "Wx7mfUc3JjPd"
    },
    {
      "cell_type": "code",
      "source": [
        "vehicle_type_count.show()"
      ],
      "metadata": {
        "id": "tmoUsbkyEphS",
        "colab": {
          "base_uri": "https://localhost:8080/"
        },
        "outputId": "216bf067-944f-4dd9-b45b-0b104f356171"
      },
      "id": "tmoUsbkyEphS",
      "execution_count": 28,
      "outputs": [
        {
          "output_type": "stream",
          "name": "stdout",
          "text": [
            "+----+--------------------+------+\n",
            "|year|        VEHICLE_TYPE| count|\n",
            "+----+--------------------+------+\n",
            "|2019|                 BUS|  6721|\n",
            "|2016|                Bike|  6054|\n",
            "|2014|                TAXI|226669|\n",
            "|2014|SPORT UTILITY / S...| 90028|\n",
            "|2013|               Truck|  6061|\n",
            "|2013|               OTHER| 11233|\n",
            "|2012|                 VAN|  6454|\n",
            "|2018|               Sedan|353298|\n",
            "|2020|                Bike|  5317|\n",
            "|2017|                 BUS|  7404|\n",
            "|2014|                 VAN| 13417|\n",
            "|2019|                Bike|  6045|\n",
            "|2016|                 VAN|  6144|\n",
            "|2012|               OTHER|  5423|\n",
            "|2017|                TAXI| 19347|\n",
            "|2015|                 VAN| 14072|\n",
            "|2016|               Sedan|284305|\n",
            "|2016|               Truck| 22607|\n",
            "|2015|                 BUS| 16044|\n",
            "|2018|               Truck| 29434|\n",
            "+----+--------------------+------+\n",
            "only showing top 20 rows\n",
            "\n"
          ]
        }
      ]
    },
    {
      "cell_type": "code",
      "source": [
        "import json\n",
        "def rdd_json_to_dict(input_json):\n",
        "  output_dict = [json.loads(record) for record in input_json]\n",
        "  return output_dict"
      ],
      "metadata": {
        "id": "uF4uynpO9mh0"
      },
      "id": "uF4uynpO9mh0",
      "execution_count": 29,
      "outputs": []
    },
    {
      "cell_type": "code",
      "source": [
        "newyork_crash_summary_dict = rdd_json_to_dict(newyork_crash_summary_df.toJSON().collect())\n",
        "yearly_crash_count_dict=rdd_json_to_dict(yearly_crash_count.toJSON().collect())\n",
        "monthly_crash_count_dict=rdd_json_to_dict(monthly_crash_count.toJSON().collect())\n",
        "prime_contributory_cause_dict=rdd_json_to_dict(prime_contributory_cause_df.toJSON().collect())\n",
        "vehicle_type_count_dict=rdd_json_to_dict(vehicle_type_count.toJSON().collect())"
      ],
      "metadata": {
        "id": "vuyPTTK29mxe"
      },
      "id": "vuyPTTK29mxe",
      "execution_count": null,
      "outputs": []
    },
    {
      "cell_type": "code",
      "source": [
        "from pymongo import MongoClient\n",
        "import os\n",
        "MONGO_URI = os.environ[\"MONGO_URI\"]\n",
        "client = MongoClient(MONGO_URI)\n",
        "db = client[\"TrafficAnalysis\"]\n",
        "coll = db[\"newyork_crash_summary\"]\n",
        "coll.insert_many(newyork_crash_summary_dict)\n",
        "coll = db['newyork_year_crash_count']\n",
        "coll.insert_many(yearly_crash_count_dict)\n",
        "coll=db['newyork_monthly_crash_count']\n",
        "coll.insert_many(monthly_crash_count_dict)\n",
        "coll=db['newyork_prime_contributory_cause']\n",
        "coll.insert_many(prime_contributory_cause_dict)\n",
        "coll=db['newyork_vehicle_type_crash_cause']\n",
        "coll.insert_many(vehicle_type_count_dict)"
      ],
      "metadata": {
        "id": "d79CYwuc9m0W"
      },
      "id": "d79CYwuc9m0W",
      "execution_count": null,
      "outputs": []
    },
    {
      "cell_type": "code",
      "execution_count": null,
      "metadata": {
        "id": "64a7a546-652c-482b-a357-5954e469a0d8"
      },
      "outputs": [],
      "source": [
        ""
      ],
      "id": "64a7a546-652c-482b-a357-5954e469a0d8"
    }
  ],
  "metadata": {
    "colab": {
      "collapsed_sections": [],
      "name": "NYCrash.ipynb",
      "provenance": []
    },
    "kernelspec": {
      "display_name": "Python 3 (ipykernel)",
      "language": "python",
      "name": "python3"
    },
    "language_info": {
      "codemirror_mode": {
        "name": "ipython",
        "version": 3
      },
      "file_extension": ".py",
      "mimetype": "text/x-python",
      "name": "python",
      "nbconvert_exporter": "python",
      "pygments_lexer": "ipython3",
      "version": "3.9.12"
    }
  },
  "nbformat": 4,
  "nbformat_minor": 5
}