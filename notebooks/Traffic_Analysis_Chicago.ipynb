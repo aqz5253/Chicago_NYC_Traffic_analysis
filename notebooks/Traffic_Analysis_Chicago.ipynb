{
  "nbformat": 4,
  "nbformat_minor": 0,
  "metadata": {
    "colab": {
      "name": "Traffic_Analysis_Chicago.ipynb",
      "provenance": []
    },
    "kernelspec": {
      "name": "python3",
      "display_name": "Python 3"
    },
    "language_info": {
      "name": "python"
    }
  },
  "cells": [
    {
      "cell_type": "code",
      "execution_count": 125,
      "metadata": {
        "colab": {
          "base_uri": "https://localhost:8080/"
        },
        "id": "W5JlUgBnvCyU",
        "outputId": "cba52d87-b7b5-4132-f173-e8dfb9ad4c5b"
      },
      "outputs": [
        {
          "output_type": "stream",
          "name": "stdout",
          "text": [
            "Requirement already satisfied: pyspark in /usr/local/lib/python3.7/dist-packages (3.2.1)\n",
            "Requirement already satisfied: py4j==0.10.9.3 in /usr/local/lib/python3.7/dist-packages (from pyspark) (0.10.9.3)\n"
          ]
        }
      ],
      "source": [
        "!pip install pyspark"
      ]
    },
    {
      "cell_type": "code",
      "source": [
        "from pyspark.sql import SparkSession\n",
        "import pyspark\n",
        "spark = SparkSession.builder\\\n",
        "        .master(\"local\")\\\n",
        "        .appName(\"Colab\")\\\n",
        "        .config('spark.ui.port', '4050')\\\n",
        "        .config(\"spark.memory.offHeap.enabled\",\"true\")\\\n",
        "        .config(\"spark.memory.offHeap.size\",\"10g\")\\\n",
        "        .getOrCreate()"
      ],
      "metadata": {
        "id": "x2hVA-MovObj"
      },
      "execution_count": 126,
      "outputs": []
    },
    {
      "cell_type": "code",
      "source": [
        "traffic_crashes=spark.read.option('header',True).option(\"inferSchema\", True).csv('/content/drive/MyDrive/Chicago dataset/Traffic_Crashes_-_Crashes.csv')"
      ],
      "metadata": {
        "id": "W9RPqQvEvTvB"
      },
      "execution_count": 127,
      "outputs": []
    },
    {
      "cell_type": "code",
      "source": [
        "traffic_crashes.show(5)\n"
      ],
      "metadata": {
        "colab": {
          "base_uri": "https://localhost:8080/"
        },
        "id": "WAIB9s3zvpZu",
        "outputId": "00dfd7a7-89ec-4162-a322-0c9de318afc9"
      },
      "execution_count": 128,
      "outputs": [
        {
          "output_type": "stream",
          "name": "stdout",
          "text": [
            "+--------------------+--------+----------------+--------------------+------------------+----------------------+--------------------+-----------------+--------------------+--------------------+--------------------+--------+------------------+--------------------+-----------+-----------+--------------------+----------------------+------------------+-------------+-------------+--------------------+-----------------------+----------------------+---------+----------------+----------------+------------------+--------------+------------------+---------+-----------+--------------+-----------------+---------+--------------------+--------------+--------------+-----------------------+---------------------------+-----------------------------+----------------------+----------------+----------+-----------------+-----------+------------+-------------+--------------------+\n",
            "|     CRASH_RECORD_ID|   RD_NO|CRASH_DATE_EST_I|          CRASH_DATE|POSTED_SPEED_LIMIT|TRAFFIC_CONTROL_DEVICE|    DEVICE_CONDITION|WEATHER_CONDITION|  LIGHTING_CONDITION|    FIRST_CRASH_TYPE|     TRAFFICWAY_TYPE|LANE_CNT|         ALIGNMENT|ROADWAY_SURFACE_COND|ROAD_DEFECT|REPORT_TYPE|          CRASH_TYPE|INTERSECTION_RELATED_I|NOT_RIGHT_OF_WAY_I|HIT_AND_RUN_I|       DAMAGE|DATE_POLICE_NOTIFIED|PRIM_CONTRIBUTORY_CAUSE|SEC_CONTRIBUTORY_CAUSE|STREET_NO|STREET_DIRECTION|     STREET_NAME|BEAT_OF_OCCURRENCE|PHOTOS_TAKEN_I|STATEMENTS_TAKEN_I|DOORING_I|WORK_ZONE_I|WORK_ZONE_TYPE|WORKERS_PRESENT_I|NUM_UNITS|  MOST_SEVERE_INJURY|INJURIES_TOTAL|INJURIES_FATAL|INJURIES_INCAPACITATING|INJURIES_NON_INCAPACITATING|INJURIES_REPORTED_NOT_EVIDENT|INJURIES_NO_INDICATION|INJURIES_UNKNOWN|CRASH_HOUR|CRASH_DAY_OF_WEEK|CRASH_MONTH|    LATITUDE|    LONGITUDE|            LOCATION|\n",
            "+--------------------+--------+----------------+--------------------+------------------+----------------------+--------------------+-----------------+--------------------+--------------------+--------------------+--------+------------------+--------------------+-----------+-----------+--------------------+----------------------+------------------+-------------+-------------+--------------------+-----------------------+----------------------+---------+----------------+----------------+------------------+--------------+------------------+---------+-----------+--------------+-----------------+---------+--------------------+--------------+--------------+-----------------------+---------------------------+-----------------------------+----------------------+----------------+----------+-----------------+-----------+------------+-------------+--------------------+\n",
            "|00bf78dfa54ff8430...|JF213955|            null|04/20/2022 04:32:...|                15|                 OTHER|               OTHER|            CLEAR|            DAYLIGHT|       REAR TO FRONT|         PARKING LOT|    null|STRAIGHT AND LEVEL|                 DRY| NO DEFECTS|   ON SCENE|NO INJURY / DRIVE...|                  null|              null|         null|  OVER $1,500|04/20/2022 04:47:...|    UNABLE TO DETERMINE|   UNABLE TO DETERMINE|     5450|               S|    MICHIGAN AVE|               225|          null|              null|     null|       null|          null|             null|        2|NO INDICATION OF ...|             0|             0|                      0|                          0|                            0|                     2|               0|        16|                4|          4|41.794997896|-87.622620128|POINT (-87.622620...|\n",
            "|016eaf0b25d64bf09...|JE287447|            null|07/02/2021 03:40:...|                20|           NO CONTROLS|         NO CONTROLS|            CLEAR|            DAYLIGHT|SIDESWIPE SAME DI...|         NOT DIVIDED|    null|STRAIGHT AND LEVEL|                 DRY| NO DEFECTS|       null|NO INJURY / DRIVE...|                  null|              null|         null|  OVER $1,500|07/02/2021 03:45:...|   FAILING TO YIELD ...|  IMPROPER OVERTAKI...|     4760|               W|         76TH ST|               833|          null|              null|     null|       null|          null|             null|        2|NO INDICATION OF ...|             0|             0|                      0|                          0|                            0|                     2|               0|        15|                6|          7|        null|         null|                null|\n",
            "|0277a7088d966e6e5...|JF214245|            null|04/20/2022 08:05:...|                30|        TRAFFIC SIGNAL|FUNCTIONING PROPERLY|             RAIN|            DARKNESS|          PEDESTRIAN|DIVIDED - W/MEDIA...|    null|STRAIGHT AND LEVEL|                 WET| NO DEFECTS|   ON SCENE|INJURY AND / OR T...|                  null|              null|         null|$501 - $1,500|04/20/2022 09:05:...|   FAILING TO YIELD ...|        NOT APPLICABLE|      151|               N|    MICHIGAN AVE|               114|          null|              null|     null|       null|          null|             null|        2|NONINCAPACITATING...|             1|             0|                      0|                          1|                            0|                     2|               0|        20|                4|          4|41.884540111|-87.624308522|POINT (-87.624308...|\n",
            "|029f38eec2b3eb64b...|JF213684|            null|04/20/2022 12:30:...|                30|           NO CONTROLS|         NO CONTROLS|            CLEAR|            DAYLIGHT|SIDESWIPE SAME DI...|         NOT DIVIDED|    null|STRAIGHT AND LEVEL|                 DRY| NO DEFECTS|   ON SCENE|NO INJURY / DRIVE...|                  null|              null|         null|  OVER $1,500|04/20/2022 12:40:...|   DRIVING SKILLS/KN...|  DRIVING SKILLS/KN...|     9258|               S|STONY ISLAND AVE|               413|          null|              null|     null|       null|          null|             null|        2|NO INDICATION OF ...|             0|             0|                      0|                          0|                            0|                     2|               0|        12|                4|          4|41.726131037|-87.585561722|POINT (-87.585561...|\n",
            "|036fcc00a862eb109...|JF213332|            null|04/20/2022 03:33:...|                30|           NO CONTROLS|         NO CONTROLS|            CLEAR|DARKNESS, LIGHTED...|PARKED MOTOR VEHICLE|         NOT DIVIDED|    null|STRAIGHT AND LEVEL|                 DRY| NO DEFECTS|   ON SCENE|INJURY AND / OR T...|                  null|                 N|            Y|  OVER $1,500|04/20/2022 03:33:...|   OPERATING VEHICLE...|   UNABLE TO DETERMINE|     1454|               E|         68TH ST|               332|          null|              null|     null|       null|          null|             null|        2|NO INDICATION OF ...|             0|             0|                      0|                          0|                            0|                     1|               0|         3|                4|          4|41.771595841|-87.588844673|POINT (-87.588844...|\n",
            "+--------------------+--------+----------------+--------------------+------------------+----------------------+--------------------+-----------------+--------------------+--------------------+--------------------+--------+------------------+--------------------+-----------+-----------+--------------------+----------------------+------------------+-------------+-------------+--------------------+-----------------------+----------------------+---------+----------------+----------------+------------------+--------------+------------------+---------+-----------+--------------+-----------------+---------+--------------------+--------------+--------------+-----------------------+---------------------------+-----------------------------+----------------------+----------------+----------+-----------------+-----------+------------+-------------+--------------------+\n",
            "only showing top 5 rows\n",
            "\n"
          ]
        }
      ]
    },
    {
      "cell_type": "code",
      "source": [
        "traffic_crashes.summary().show()"
      ],
      "metadata": {
        "colab": {
          "base_uri": "https://localhost:8080/",
          "height": 478
        },
        "id": "ewdy-Otavsp2",
        "outputId": "93717306-acdd-48a2-a9dd-8286e97e197a"
      },
      "execution_count": 130,
      "outputs": [
        {
          "output_type": "stream",
          "name": "stderr",
          "text": [
            "ERROR:root:KeyboardInterrupt while sending command.\n",
            "Traceback (most recent call last):\n",
            "  File \"/usr/local/lib/python3.7/dist-packages/py4j/java_gateway.py\", line 1038, in send_command\n",
            "    response = connection.send_command(command)\n",
            "  File \"/usr/local/lib/python3.7/dist-packages/py4j/clientserver.py\", line 475, in send_command\n",
            "    answer = smart_decode(self.stream.readline()[:-1])\n",
            "  File \"/usr/lib/python3.7/socket.py\", line 589, in readinto\n",
            "    return self._sock.recv_into(b)\n",
            "KeyboardInterrupt\n"
          ]
        },
        {
          "output_type": "error",
          "ename": "KeyboardInterrupt",
          "evalue": "ignored",
          "traceback": [
            "\u001b[0;31m---------------------------------------------------------------------------\u001b[0m",
            "\u001b[0;31mKeyboardInterrupt\u001b[0m                         Traceback (most recent call last)",
            "\u001b[0;32m<ipython-input-130-666f53a717a3>\u001b[0m in \u001b[0;36m<module>\u001b[0;34m()\u001b[0m\n\u001b[0;32m----> 1\u001b[0;31m \u001b[0mtraffic_crashes\u001b[0m\u001b[0;34m.\u001b[0m\u001b[0msummary\u001b[0m\u001b[0;34m(\u001b[0m\u001b[0;34m)\u001b[0m\u001b[0;34m.\u001b[0m\u001b[0mshow\u001b[0m\u001b[0;34m(\u001b[0m\u001b[0;34m)\u001b[0m\u001b[0;34m\u001b[0m\u001b[0;34m\u001b[0m\u001b[0m\n\u001b[0m",
            "\u001b[0;32m/usr/local/lib/python3.7/dist-packages/pyspark/sql/dataframe.py\u001b[0m in \u001b[0;36msummary\u001b[0;34m(self, *statistics)\u001b[0m\n\u001b[1;32m   1570\u001b[0m         \u001b[0;32mif\u001b[0m \u001b[0mlen\u001b[0m\u001b[0;34m(\u001b[0m\u001b[0mstatistics\u001b[0m\u001b[0;34m)\u001b[0m \u001b[0;34m==\u001b[0m \u001b[0;36m1\u001b[0m \u001b[0;32mand\u001b[0m \u001b[0misinstance\u001b[0m\u001b[0;34m(\u001b[0m\u001b[0mstatistics\u001b[0m\u001b[0;34m[\u001b[0m\u001b[0;36m0\u001b[0m\u001b[0;34m]\u001b[0m\u001b[0;34m,\u001b[0m \u001b[0mlist\u001b[0m\u001b[0;34m)\u001b[0m\u001b[0;34m:\u001b[0m\u001b[0;34m\u001b[0m\u001b[0;34m\u001b[0m\u001b[0m\n\u001b[1;32m   1571\u001b[0m             \u001b[0mstatistics\u001b[0m \u001b[0;34m=\u001b[0m \u001b[0mstatistics\u001b[0m\u001b[0;34m[\u001b[0m\u001b[0;36m0\u001b[0m\u001b[0;34m]\u001b[0m\u001b[0;34m\u001b[0m\u001b[0;34m\u001b[0m\u001b[0m\n\u001b[0;32m-> 1572\u001b[0;31m         \u001b[0mjdf\u001b[0m \u001b[0;34m=\u001b[0m \u001b[0mself\u001b[0m\u001b[0;34m.\u001b[0m\u001b[0m_jdf\u001b[0m\u001b[0;34m.\u001b[0m\u001b[0msummary\u001b[0m\u001b[0;34m(\u001b[0m\u001b[0mself\u001b[0m\u001b[0;34m.\u001b[0m\u001b[0m_jseq\u001b[0m\u001b[0;34m(\u001b[0m\u001b[0mstatistics\u001b[0m\u001b[0;34m)\u001b[0m\u001b[0;34m)\u001b[0m\u001b[0;34m\u001b[0m\u001b[0;34m\u001b[0m\u001b[0m\n\u001b[0m\u001b[1;32m   1573\u001b[0m         \u001b[0;32mreturn\u001b[0m \u001b[0mDataFrame\u001b[0m\u001b[0;34m(\u001b[0m\u001b[0mjdf\u001b[0m\u001b[0;34m,\u001b[0m \u001b[0mself\u001b[0m\u001b[0;34m.\u001b[0m\u001b[0msql_ctx\u001b[0m\u001b[0;34m)\u001b[0m\u001b[0;34m\u001b[0m\u001b[0;34m\u001b[0m\u001b[0m\n\u001b[1;32m   1574\u001b[0m \u001b[0;34m\u001b[0m\u001b[0m\n",
            "\u001b[0;32m/usr/local/lib/python3.7/dist-packages/py4j/java_gateway.py\u001b[0m in \u001b[0;36m__call__\u001b[0;34m(self, *args)\u001b[0m\n\u001b[1;32m   1318\u001b[0m             \u001b[0mproto\u001b[0m\u001b[0;34m.\u001b[0m\u001b[0mEND_COMMAND_PART\u001b[0m\u001b[0;34m\u001b[0m\u001b[0;34m\u001b[0m\u001b[0m\n\u001b[1;32m   1319\u001b[0m \u001b[0;34m\u001b[0m\u001b[0m\n\u001b[0;32m-> 1320\u001b[0;31m         \u001b[0manswer\u001b[0m \u001b[0;34m=\u001b[0m \u001b[0mself\u001b[0m\u001b[0;34m.\u001b[0m\u001b[0mgateway_client\u001b[0m\u001b[0;34m.\u001b[0m\u001b[0msend_command\u001b[0m\u001b[0;34m(\u001b[0m\u001b[0mcommand\u001b[0m\u001b[0;34m)\u001b[0m\u001b[0;34m\u001b[0m\u001b[0;34m\u001b[0m\u001b[0m\n\u001b[0m\u001b[1;32m   1321\u001b[0m         return_value = get_return_value(\n\u001b[1;32m   1322\u001b[0m             answer, self.gateway_client, self.target_id, self.name)\n",
            "\u001b[0;32m/usr/local/lib/python3.7/dist-packages/py4j/java_gateway.py\u001b[0m in \u001b[0;36msend_command\u001b[0;34m(self, command, retry, binary)\u001b[0m\n\u001b[1;32m   1036\u001b[0m         \u001b[0mconnection\u001b[0m \u001b[0;34m=\u001b[0m \u001b[0mself\u001b[0m\u001b[0;34m.\u001b[0m\u001b[0m_get_connection\u001b[0m\u001b[0;34m(\u001b[0m\u001b[0;34m)\u001b[0m\u001b[0;34m\u001b[0m\u001b[0;34m\u001b[0m\u001b[0m\n\u001b[1;32m   1037\u001b[0m         \u001b[0;32mtry\u001b[0m\u001b[0;34m:\u001b[0m\u001b[0;34m\u001b[0m\u001b[0;34m\u001b[0m\u001b[0m\n\u001b[0;32m-> 1038\u001b[0;31m             \u001b[0mresponse\u001b[0m \u001b[0;34m=\u001b[0m \u001b[0mconnection\u001b[0m\u001b[0;34m.\u001b[0m\u001b[0msend_command\u001b[0m\u001b[0;34m(\u001b[0m\u001b[0mcommand\u001b[0m\u001b[0;34m)\u001b[0m\u001b[0;34m\u001b[0m\u001b[0;34m\u001b[0m\u001b[0m\n\u001b[0m\u001b[1;32m   1039\u001b[0m             \u001b[0;32mif\u001b[0m \u001b[0mbinary\u001b[0m\u001b[0;34m:\u001b[0m\u001b[0;34m\u001b[0m\u001b[0;34m\u001b[0m\u001b[0m\n\u001b[1;32m   1040\u001b[0m                 \u001b[0;32mreturn\u001b[0m \u001b[0mresponse\u001b[0m\u001b[0;34m,\u001b[0m \u001b[0mself\u001b[0m\u001b[0;34m.\u001b[0m\u001b[0m_create_connection_guard\u001b[0m\u001b[0;34m(\u001b[0m\u001b[0mconnection\u001b[0m\u001b[0;34m)\u001b[0m\u001b[0;34m\u001b[0m\u001b[0;34m\u001b[0m\u001b[0m\n",
            "\u001b[0;32m/usr/local/lib/python3.7/dist-packages/py4j/clientserver.py\u001b[0m in \u001b[0;36msend_command\u001b[0;34m(self, command)\u001b[0m\n\u001b[1;32m    473\u001b[0m         \u001b[0;32mtry\u001b[0m\u001b[0;34m:\u001b[0m\u001b[0;34m\u001b[0m\u001b[0;34m\u001b[0m\u001b[0m\n\u001b[1;32m    474\u001b[0m             \u001b[0;32mwhile\u001b[0m \u001b[0;32mTrue\u001b[0m\u001b[0;34m:\u001b[0m\u001b[0;34m\u001b[0m\u001b[0;34m\u001b[0m\u001b[0m\n\u001b[0;32m--> 475\u001b[0;31m                 \u001b[0manswer\u001b[0m \u001b[0;34m=\u001b[0m \u001b[0msmart_decode\u001b[0m\u001b[0;34m(\u001b[0m\u001b[0mself\u001b[0m\u001b[0;34m.\u001b[0m\u001b[0mstream\u001b[0m\u001b[0;34m.\u001b[0m\u001b[0mreadline\u001b[0m\u001b[0;34m(\u001b[0m\u001b[0;34m)\u001b[0m\u001b[0;34m[\u001b[0m\u001b[0;34m:\u001b[0m\u001b[0;34m-\u001b[0m\u001b[0;36m1\u001b[0m\u001b[0;34m]\u001b[0m\u001b[0;34m)\u001b[0m\u001b[0;34m\u001b[0m\u001b[0;34m\u001b[0m\u001b[0m\n\u001b[0m\u001b[1;32m    476\u001b[0m                 \u001b[0mlogger\u001b[0m\u001b[0;34m.\u001b[0m\u001b[0mdebug\u001b[0m\u001b[0;34m(\u001b[0m\u001b[0;34m\"Answer received: {0}\"\u001b[0m\u001b[0;34m.\u001b[0m\u001b[0mformat\u001b[0m\u001b[0;34m(\u001b[0m\u001b[0manswer\u001b[0m\u001b[0;34m)\u001b[0m\u001b[0;34m)\u001b[0m\u001b[0;34m\u001b[0m\u001b[0;34m\u001b[0m\u001b[0m\n\u001b[1;32m    477\u001b[0m                 \u001b[0;31m# Happens when a the other end is dead. There might be an empty\u001b[0m\u001b[0;34m\u001b[0m\u001b[0;34m\u001b[0m\u001b[0;34m\u001b[0m\u001b[0m\n",
            "\u001b[0;32m/usr/lib/python3.7/socket.py\u001b[0m in \u001b[0;36mreadinto\u001b[0;34m(self, b)\u001b[0m\n\u001b[1;32m    587\u001b[0m         \u001b[0;32mwhile\u001b[0m \u001b[0;32mTrue\u001b[0m\u001b[0;34m:\u001b[0m\u001b[0;34m\u001b[0m\u001b[0;34m\u001b[0m\u001b[0m\n\u001b[1;32m    588\u001b[0m             \u001b[0;32mtry\u001b[0m\u001b[0;34m:\u001b[0m\u001b[0;34m\u001b[0m\u001b[0;34m\u001b[0m\u001b[0m\n\u001b[0;32m--> 589\u001b[0;31m                 \u001b[0;32mreturn\u001b[0m \u001b[0mself\u001b[0m\u001b[0;34m.\u001b[0m\u001b[0m_sock\u001b[0m\u001b[0;34m.\u001b[0m\u001b[0mrecv_into\u001b[0m\u001b[0;34m(\u001b[0m\u001b[0mb\u001b[0m\u001b[0;34m)\u001b[0m\u001b[0;34m\u001b[0m\u001b[0;34m\u001b[0m\u001b[0m\n\u001b[0m\u001b[1;32m    590\u001b[0m             \u001b[0;32mexcept\u001b[0m \u001b[0mtimeout\u001b[0m\u001b[0;34m:\u001b[0m\u001b[0;34m\u001b[0m\u001b[0;34m\u001b[0m\u001b[0m\n\u001b[1;32m    591\u001b[0m                 \u001b[0mself\u001b[0m\u001b[0;34m.\u001b[0m\u001b[0m_timeout_occurred\u001b[0m \u001b[0;34m=\u001b[0m \u001b[0;32mTrue\u001b[0m\u001b[0;34m\u001b[0m\u001b[0;34m\u001b[0m\u001b[0m\n",
            "\u001b[0;31mKeyboardInterrupt\u001b[0m: "
          ]
        }
      ]
    },
    {
      "cell_type": "code",
      "source": [
        "traffic_crashes.printSchema()"
      ],
      "metadata": {
        "colab": {
          "base_uri": "https://localhost:8080/"
        },
        "id": "j9QwKMXVwCzv",
        "outputId": "2f59fcff-fd8e-4e99-bab7-9262c2bf65c6"
      },
      "execution_count": 131,
      "outputs": [
        {
          "output_type": "stream",
          "name": "stdout",
          "text": [
            "root\n",
            " |-- CRASH_RECORD_ID: string (nullable = true)\n",
            " |-- RD_NO: string (nullable = true)\n",
            " |-- CRASH_DATE_EST_I: string (nullable = true)\n",
            " |-- CRASH_DATE: string (nullable = true)\n",
            " |-- POSTED_SPEED_LIMIT: integer (nullable = true)\n",
            " |-- TRAFFIC_CONTROL_DEVICE: string (nullable = true)\n",
            " |-- DEVICE_CONDITION: string (nullable = true)\n",
            " |-- WEATHER_CONDITION: string (nullable = true)\n",
            " |-- LIGHTING_CONDITION: string (nullable = true)\n",
            " |-- FIRST_CRASH_TYPE: string (nullable = true)\n",
            " |-- TRAFFICWAY_TYPE: string (nullable = true)\n",
            " |-- LANE_CNT: integer (nullable = true)\n",
            " |-- ALIGNMENT: string (nullable = true)\n",
            " |-- ROADWAY_SURFACE_COND: string (nullable = true)\n",
            " |-- ROAD_DEFECT: string (nullable = true)\n",
            " |-- REPORT_TYPE: string (nullable = true)\n",
            " |-- CRASH_TYPE: string (nullable = true)\n",
            " |-- INTERSECTION_RELATED_I: string (nullable = true)\n",
            " |-- NOT_RIGHT_OF_WAY_I: string (nullable = true)\n",
            " |-- HIT_AND_RUN_I: string (nullable = true)\n",
            " |-- DAMAGE: string (nullable = true)\n",
            " |-- DATE_POLICE_NOTIFIED: string (nullable = true)\n",
            " |-- PRIM_CONTRIBUTORY_CAUSE: string (nullable = true)\n",
            " |-- SEC_CONTRIBUTORY_CAUSE: string (nullable = true)\n",
            " |-- STREET_NO: integer (nullable = true)\n",
            " |-- STREET_DIRECTION: string (nullable = true)\n",
            " |-- STREET_NAME: string (nullable = true)\n",
            " |-- BEAT_OF_OCCURRENCE: integer (nullable = true)\n",
            " |-- PHOTOS_TAKEN_I: string (nullable = true)\n",
            " |-- STATEMENTS_TAKEN_I: string (nullable = true)\n",
            " |-- DOORING_I: string (nullable = true)\n",
            " |-- WORK_ZONE_I: string (nullable = true)\n",
            " |-- WORK_ZONE_TYPE: string (nullable = true)\n",
            " |-- WORKERS_PRESENT_I: string (nullable = true)\n",
            " |-- NUM_UNITS: integer (nullable = true)\n",
            " |-- MOST_SEVERE_INJURY: string (nullable = true)\n",
            " |-- INJURIES_TOTAL: integer (nullable = true)\n",
            " |-- INJURIES_FATAL: integer (nullable = true)\n",
            " |-- INJURIES_INCAPACITATING: integer (nullable = true)\n",
            " |-- INJURIES_NON_INCAPACITATING: integer (nullable = true)\n",
            " |-- INJURIES_REPORTED_NOT_EVIDENT: integer (nullable = true)\n",
            " |-- INJURIES_NO_INDICATION: integer (nullable = true)\n",
            " |-- INJURIES_UNKNOWN: integer (nullable = true)\n",
            " |-- CRASH_HOUR: integer (nullable = true)\n",
            " |-- CRASH_DAY_OF_WEEK: integer (nullable = true)\n",
            " |-- CRASH_MONTH: integer (nullable = true)\n",
            " |-- LATITUDE: double (nullable = true)\n",
            " |-- LONGITUDE: double (nullable = true)\n",
            " |-- LOCATION: string (nullable = true)\n",
            "\n"
          ]
        }
      ]
    },
    {
      "cell_type": "code",
      "source": [
        "traffic_crashes.count()"
      ],
      "metadata": {
        "colab": {
          "base_uri": "https://localhost:8080/"
        },
        "id": "xeM5e94fxTMU",
        "outputId": "9963d6f6-b7b0-4c84-951e-d9c87a0121e0"
      },
      "execution_count": 132,
      "outputs": [
        {
          "output_type": "execute_result",
          "data": {
            "text/plain": [
              "610025"
            ]
          },
          "metadata": {},
          "execution_count": 132
        }
      ]
    },
    {
      "cell_type": "code",
      "source": [
        ""
      ],
      "metadata": {
        "id": "GgkCh-Gs3nYa"
      },
      "execution_count": 132,
      "outputs": []
    },
    {
      "cell_type": "code",
      "source": [
        ""
      ],
      "metadata": {
        "id": "S6SNrbaA3nTV"
      },
      "execution_count": 132,
      "outputs": []
    },
    {
      "cell_type": "code",
      "source": [
        ""
      ],
      "metadata": {
        "id": "8xukD2_63nPB"
      },
      "execution_count": 132,
      "outputs": []
    },
    {
      "cell_type": "code",
      "source": [
        ""
      ],
      "metadata": {
        "id": "DgPl86-N3nMu"
      },
      "execution_count": 132,
      "outputs": []
    },
    {
      "cell_type": "code",
      "source": [
        ""
      ],
      "metadata": {
        "id": "at7CTolt3nHl"
      },
      "execution_count": 132,
      "outputs": []
    },
    {
      "cell_type": "code",
      "source": [
        ""
      ],
      "metadata": {
        "id": "0r4N6LKu3nFG"
      },
      "execution_count": 132,
      "outputs": []
    },
    {
      "cell_type": "code",
      "source": [
        ""
      ],
      "metadata": {
        "id": "tFgwUFr63nDZ"
      },
      "execution_count": 132,
      "outputs": []
    },
    {
      "cell_type": "code",
      "source": [
        ""
      ],
      "metadata": {
        "id": "VCDwitmO3nAB"
      },
      "execution_count": 132,
      "outputs": []
    },
    {
      "cell_type": "code",
      "source": [
        ""
      ],
      "metadata": {
        "id": "bu85rcrz3m4I"
      },
      "execution_count": 132,
      "outputs": []
    },
    {
      "cell_type": "code",
      "source": [
        "from pyspark.sql.functions import date_format\n",
        "from pyspark.sql.functions import unix_timestamp\n",
        "\n",
        "\n",
        "traffic_crashes=traffic_crashes.withColumn('Date',(date_format(unix_timestamp(\"CRASH_DATE\", \"MM/dd/yyyy hh:mm:ss a\").cast(\"timestamp\"), \"MM/dd/yyyy\")))\n",
        "traffic_crashes.withColumn('year',date_format('Date','yyyy'))"
      ],
      "metadata": {
        "id": "7AUokhFnxyPP",
        "colab": {
          "base_uri": "https://localhost:8080/"
        },
        "outputId": "465c92fe-b09c-4ed9-acee-dc2b3704b9a4"
      },
      "execution_count": 133,
      "outputs": [
        {
          "output_type": "execute_result",
          "data": {
            "text/plain": [
              "DataFrame[CRASH_RECORD_ID: string, RD_NO: string, CRASH_DATE_EST_I: string, CRASH_DATE: string, POSTED_SPEED_LIMIT: int, TRAFFIC_CONTROL_DEVICE: string, DEVICE_CONDITION: string, WEATHER_CONDITION: string, LIGHTING_CONDITION: string, FIRST_CRASH_TYPE: string, TRAFFICWAY_TYPE: string, LANE_CNT: int, ALIGNMENT: string, ROADWAY_SURFACE_COND: string, ROAD_DEFECT: string, REPORT_TYPE: string, CRASH_TYPE: string, INTERSECTION_RELATED_I: string, NOT_RIGHT_OF_WAY_I: string, HIT_AND_RUN_I: string, DAMAGE: string, DATE_POLICE_NOTIFIED: string, PRIM_CONTRIBUTORY_CAUSE: string, SEC_CONTRIBUTORY_CAUSE: string, STREET_NO: int, STREET_DIRECTION: string, STREET_NAME: string, BEAT_OF_OCCURRENCE: int, PHOTOS_TAKEN_I: string, STATEMENTS_TAKEN_I: string, DOORING_I: string, WORK_ZONE_I: string, WORK_ZONE_TYPE: string, WORKERS_PRESENT_I: string, NUM_UNITS: int, MOST_SEVERE_INJURY: string, INJURIES_TOTAL: int, INJURIES_FATAL: int, INJURIES_INCAPACITATING: int, INJURIES_NON_INCAPACITATING: int, INJURIES_REPORTED_NOT_EVIDENT: int, INJURIES_NO_INDICATION: int, INJURIES_UNKNOWN: int, CRASH_HOUR: int, CRASH_DAY_OF_WEEK: int, CRASH_MONTH: int, LATITUDE: double, LONGITUDE: double, LOCATION: string, Date: string, year: string]"
            ]
          },
          "metadata": {},
          "execution_count": 133
        }
      ]
    },
    {
      "cell_type": "code",
      "source": [
        "traffic_crashes.show(20)"
      ],
      "metadata": {
        "colab": {
          "base_uri": "https://localhost:8080/"
        },
        "id": "ZzvKTkKJ08zR",
        "outputId": "910d3998-db15-492d-b05c-a4f4e39485c1"
      },
      "execution_count": 134,
      "outputs": [
        {
          "output_type": "stream",
          "name": "stdout",
          "text": [
            "+--------------------+--------+----------------+--------------------+------------------+----------------------+--------------------+-----------------+--------------------+--------------------+--------------------+--------+------------------+--------------------+-----------+--------------------+--------------------+----------------------+------------------+-------------+-------------+--------------------+-----------------------+----------------------+---------+----------------+----------------+------------------+--------------+------------------+---------+-----------+--------------+-----------------+---------+--------------------+--------------+--------------+-----------------------+---------------------------+-----------------------------+----------------------+----------------+----------+-----------------+-----------+------------+-------------+--------------------+----------+\n",
            "|     CRASH_RECORD_ID|   RD_NO|CRASH_DATE_EST_I|          CRASH_DATE|POSTED_SPEED_LIMIT|TRAFFIC_CONTROL_DEVICE|    DEVICE_CONDITION|WEATHER_CONDITION|  LIGHTING_CONDITION|    FIRST_CRASH_TYPE|     TRAFFICWAY_TYPE|LANE_CNT|         ALIGNMENT|ROADWAY_SURFACE_COND|ROAD_DEFECT|         REPORT_TYPE|          CRASH_TYPE|INTERSECTION_RELATED_I|NOT_RIGHT_OF_WAY_I|HIT_AND_RUN_I|       DAMAGE|DATE_POLICE_NOTIFIED|PRIM_CONTRIBUTORY_CAUSE|SEC_CONTRIBUTORY_CAUSE|STREET_NO|STREET_DIRECTION|     STREET_NAME|BEAT_OF_OCCURRENCE|PHOTOS_TAKEN_I|STATEMENTS_TAKEN_I|DOORING_I|WORK_ZONE_I|WORK_ZONE_TYPE|WORKERS_PRESENT_I|NUM_UNITS|  MOST_SEVERE_INJURY|INJURIES_TOTAL|INJURIES_FATAL|INJURIES_INCAPACITATING|INJURIES_NON_INCAPACITATING|INJURIES_REPORTED_NOT_EVIDENT|INJURIES_NO_INDICATION|INJURIES_UNKNOWN|CRASH_HOUR|CRASH_DAY_OF_WEEK|CRASH_MONTH|    LATITUDE|    LONGITUDE|            LOCATION|      Date|\n",
            "+--------------------+--------+----------------+--------------------+------------------+----------------------+--------------------+-----------------+--------------------+--------------------+--------------------+--------+------------------+--------------------+-----------+--------------------+--------------------+----------------------+------------------+-------------+-------------+--------------------+-----------------------+----------------------+---------+----------------+----------------+------------------+--------------+------------------+---------+-----------+--------------+-----------------+---------+--------------------+--------------+--------------+-----------------------+---------------------------+-----------------------------+----------------------+----------------+----------+-----------------+-----------+------------+-------------+--------------------+----------+\n",
            "|00bf78dfa54ff8430...|JF213955|            null|04/20/2022 04:32:...|                15|                 OTHER|               OTHER|            CLEAR|            DAYLIGHT|       REAR TO FRONT|         PARKING LOT|    null|STRAIGHT AND LEVEL|                 DRY| NO DEFECTS|            ON SCENE|NO INJURY / DRIVE...|                  null|              null|         null|  OVER $1,500|04/20/2022 04:47:...|    UNABLE TO DETERMINE|   UNABLE TO DETERMINE|     5450|               S|    MICHIGAN AVE|               225|          null|              null|     null|       null|          null|             null|        2|NO INDICATION OF ...|             0|             0|                      0|                          0|                            0|                     2|               0|        16|                4|          4|41.794997896|-87.622620128|POINT (-87.622620...|04/20/2022|\n",
            "|016eaf0b25d64bf09...|JE287447|            null|07/02/2021 03:40:...|                20|           NO CONTROLS|         NO CONTROLS|            CLEAR|            DAYLIGHT|SIDESWIPE SAME DI...|         NOT DIVIDED|    null|STRAIGHT AND LEVEL|                 DRY| NO DEFECTS|                null|NO INJURY / DRIVE...|                  null|              null|         null|  OVER $1,500|07/02/2021 03:45:...|   FAILING TO YIELD ...|  IMPROPER OVERTAKI...|     4760|               W|         76TH ST|               833|          null|              null|     null|       null|          null|             null|        2|NO INDICATION OF ...|             0|             0|                      0|                          0|                            0|                     2|               0|        15|                6|          7|        null|         null|                null|07/02/2021|\n",
            "|0277a7088d966e6e5...|JF214245|            null|04/20/2022 08:05:...|                30|        TRAFFIC SIGNAL|FUNCTIONING PROPERLY|             RAIN|            DARKNESS|          PEDESTRIAN|DIVIDED - W/MEDIA...|    null|STRAIGHT AND LEVEL|                 WET| NO DEFECTS|            ON SCENE|INJURY AND / OR T...|                  null|              null|         null|$501 - $1,500|04/20/2022 09:05:...|   FAILING TO YIELD ...|        NOT APPLICABLE|      151|               N|    MICHIGAN AVE|               114|          null|              null|     null|       null|          null|             null|        2|NONINCAPACITATING...|             1|             0|                      0|                          1|                            0|                     2|               0|        20|                4|          4|41.884540111|-87.624308522|POINT (-87.624308...|04/20/2022|\n",
            "|029f38eec2b3eb64b...|JF213684|            null|04/20/2022 12:30:...|                30|           NO CONTROLS|         NO CONTROLS|            CLEAR|            DAYLIGHT|SIDESWIPE SAME DI...|         NOT DIVIDED|    null|STRAIGHT AND LEVEL|                 DRY| NO DEFECTS|            ON SCENE|NO INJURY / DRIVE...|                  null|              null|         null|  OVER $1,500|04/20/2022 12:40:...|   DRIVING SKILLS/KN...|  DRIVING SKILLS/KN...|     9258|               S|STONY ISLAND AVE|               413|          null|              null|     null|       null|          null|             null|        2|NO INDICATION OF ...|             0|             0|                      0|                          0|                            0|                     2|               0|        12|                4|          4|41.726131037|-87.585561722|POINT (-87.585561...|04/20/2022|\n",
            "|036fcc00a862eb109...|JF213332|            null|04/20/2022 03:33:...|                30|           NO CONTROLS|         NO CONTROLS|            CLEAR|DARKNESS, LIGHTED...|PARKED MOTOR VEHICLE|         NOT DIVIDED|    null|STRAIGHT AND LEVEL|                 DRY| NO DEFECTS|            ON SCENE|INJURY AND / OR T...|                  null|                 N|            Y|  OVER $1,500|04/20/2022 03:33:...|   OPERATING VEHICLE...|   UNABLE TO DETERMINE|     1454|               E|         68TH ST|               332|          null|              null|     null|       null|          null|             null|        2|NO INDICATION OF ...|             0|             0|                      0|                          0|                            0|                     1|               0|         3|                4|          4|41.771595841|-87.588844673|POINT (-87.588844...|04/20/2022|\n",
            "|0511b57269381dfbb...|JF214657|            null|04/20/2022 09:30:...|                30|               UNKNOWN|             UNKNOWN|             RAIN|            DARKNESS|          PEDESTRIAN|DIVIDED - W/MEDIA...|    null|STRAIGHT AND LEVEL|                 WET|    UNKNOWN|NOT ON SCENE (DES...|INJURY AND / OR T...|                  null|              null|            Y|  OVER $1,500|04/21/2022 11:15:...|    UNABLE TO DETERMINE|   UNABLE TO DETERMINE|      800|               W|        GRACE ST|              1923|          null|              null|     null|       null|          null|             null|        2|NONINCAPACITATING...|             1|             0|                      0|                          1|                            0|                     1|               0|        21|                4|          4|41.951299006|-87.649733419|POINT (-87.649733...|04/20/2022|\n",
            "|05a43d0e60bfdc062...|JF213918|            null|04/20/2022 07:30:...|                30|     STOP SIGN/FLASHER|FUNCTIONING PROPERLY|            CLEAR|            DAYLIGHT|SIDESWIPE SAME DI...|            FOUR WAY|    null|STRAIGHT AND LEVEL|                 DRY| NO DEFECTS|NOT ON SCENE (DES...|NO INJURY / DRIVE...|                     Y|              null|            Y|$501 - $1,500|04/20/2022 04:15:...|   IMPROPER OVERTAKI...|  PHYSICAL CONDITIO...|     4800|               N|     ASHLAND AVE|              2032|          null|              null|     null|       null|          null|             null|        2|NO INDICATION OF ...|             0|             0|                      0|                          0|                            0|                     2|               0|         7|                4|          4| 41.96902343|-87.669590434|POINT (-87.669590...|04/20/2022|\n",
            "|06b4c8b119c2a5a81...|JF213372|            null|04/20/2022 06:30:...|                30|           NO CONTROLS|         NO CONTROLS|            CLEAR|            DAYLIGHT|PARKED MOTOR VEHICLE|         NOT DIVIDED|    null|STRAIGHT AND LEVEL|                 DRY| NO DEFECTS|NOT ON SCENE (DES...|NO INJURY / DRIVE...|                  null|              null|            Y|  OVER $1,500|04/20/2022 06:55:...|    UNABLE TO DETERMINE|   UNABLE TO DETERMINE|     3533|               W|    VAN BUREN ST|              1133|          null|              null|     null|       null|          null|             null|        2|NO INDICATION OF ...|             0|             0|                      0|                          0|                            0|                     1|               0|         6|                4|          4| 41.87529857|-87.714463725|POINT (-87.714463...|04/20/2022|\n",
            "|06f8b36aef7dd4c13...|JF213301|            null|04/20/2022 01:27:...|                30|     STOP SIGN/FLASHER|         NO CONTROLS|            CLEAR|DARKNESS, LIGHTED...|               ANGLE|            FOUR WAY|    null|STRAIGHT AND LEVEL|                 DRY| NO DEFECTS|            ON SCENE|INJURY AND / OR T...|                     Y|              null|         null|  OVER $1,500|04/20/2022 01:31:...|   FAILING TO YIELD ...|        NOT APPLICABLE|     7299|               S|      VERNON AVE|               323|          null|              null|     null|       null|          null|             null|        2|REPORTED, NOT EVI...|             1|             0|                      0|                          0|                            1|                     1|               0|         1|                4|          4|41.762172115|-87.613820321|POINT (-87.613820...|04/20/2022|\n",
            "|06ab00f94c073b8bd...|JE192048|            null|04/07/2021 09:00:...|                20|           NO CONTROLS|         NO CONTROLS|            CLEAR|            DAYLIGHT|PARKED MOTOR VEHICLE|         NOT DIVIDED|    null|STRAIGHT AND LEVEL|                 DRY| NO DEFECTS|                null|INJURY AND / OR T...|                  null|              null|         null|  OVER $1,500|04/07/2021 09:03:...|    UNABLE TO DETERMINE|   UNABLE TO DETERMINE|     8246|               S|       MOZART ST|               835|          null|              null|     null|       null|          null|             null|        2|NO INDICATION OF ...|             0|             0|                      0|                          0|                            0|                     1|               0|         9|                4|          4|41.743067832|-87.693815615|POINT (-87.693815...|04/07/2021|\n",
            "|07a60d832c54b5a64...|JF214201|            null|04/20/2022 07:40:...|                30|           NO CONTROLS|         NO CONTROLS|             RAIN|            DARKNESS|SIDESWIPE SAME DI...|             ONE-WAY|    null|STRAIGHT AND LEVEL|                 WET|    UNKNOWN|NOT ON SCENE (DES...|NO INJURY / DRIVE...|                  null|              null|         null|$501 - $1,500|04/20/2022 08:13:...|   IMPROPER OVERTAKI...|  DRIVING SKILLS/KN...|      912|               W|       SCHOOL ST|              1924|          null|              null|     null|       null|          null|             null|        2|NO INDICATION OF ...|             0|             0|                      0|                          0|                            0|                     3|               0|        19|                4|          4|41.941871224| -87.65266744|POINT (-87.652667...|04/20/2022|\n",
            "|07b31bff0b26b1730...|JF213973|            null|04/20/2022 04:46:...|                30|           NO CONTROLS|         NO CONTROLS|  CLOUDY/OVERCAST|            DAYLIGHT|             TURNING|         NOT DIVIDED|    null|STRAIGHT AND LEVEL|                 DRY| NO DEFECTS|            ON SCENE|INJURY AND / OR T...|                     Y|              null|         null|  OVER $1,500|04/20/2022 04:46:...|   FAILING TO YIELD ...|   UNABLE TO DETERMINE|     5760|               S|     WESTERN AVE|               824|          null|              null|     null|       null|          null|             null|        2|REPORTED, NOT EVI...|             1|             0|                      0|                          0|                            1|                     2|               0|        16|                4|          4|41.788448283|-87.684033384|POINT (-87.684033...|04/20/2022|\n",
            "|0c6cee11c657b68f7...|JF213852|            null|04/20/2022 02:07:...|                30|           NO CONTROLS|         NO CONTROLS|  CLOUDY/OVERCAST|            DAYLIGHT|             TURNING|         NOT DIVIDED|    null|STRAIGHT AND LEVEL|                 DRY| NO DEFECTS|            ON SCENE|INJURY AND / OR T...|                  null|              null|         null|  OVER $1,500|04/20/2022 03:08:...|   FAILING TO YIELD ...|   UNABLE TO DETERMINE|     7141|               N|      KEDZIE AVE|              2411|          null|              null|     null|       null|          null|             null|        2|NO INDICATION OF ...|             0|             0|                      0|                          0|                            0|                     2|               0|        14|                4|          4|42.011276768|-87.708956677|POINT (-87.708956...|04/20/2022|\n",
            "|0d5c5d467a57de665...|JF216171|               Y|04/20/2022 09:15:...|                30|           NO CONTROLS|         NO CONTROLS|          UNKNOWN|             UNKNOWN|PARKED MOTOR VEHICLE|         NOT DIVIDED|    null|STRAIGHT AND LEVEL|             UNKNOWN|    UNKNOWN|NOT ON SCENE (DES...|NO INJURY / DRIVE...|                  null|              null|            Y|$501 - $1,500|04/22/2022 03:12:...|    UNABLE TO DETERMINE|   UNABLE TO DETERMINE|      848|               W|      JUNIOR TER|              1915|          null|              null|     null|       null|          null|             null|        2|NO INDICATION OF ...|             0|             0|                      0|                          0|                            0|                     1|               0|        21|                4|          4|41.960455032|-87.651749948|POINT (-87.651749...|04/20/2022|\n",
            "|0e53c3a6c9ad54705...|JF214195|            null|04/20/2022 07:00:...|                30|     STOP SIGN/FLASHER|FUNCTIONING PROPERLY|            CLEAR|             UNKNOWN|               ANGLE|            FOUR WAY|    null|STRAIGHT AND LEVEL|             UNKNOWN|    UNKNOWN|NOT ON SCENE (DES...|NO INJURY / DRIVE...|                     Y|              null|         null|  OVER $1,500|04/20/2022 08:00:...|   DISREGARDING STOP...|  FAILING TO YIELD ...|     3131|               W|    DIVERSEY AVE|              1411|          null|              null|     null|       null|          null|             null|        2|NO INDICATION OF ...|             0|             0|                      0|                          0|                            0|                     3|               0|        19|                4|          4| 41.93192475|-87.706263081|POINT (-87.706263...|04/20/2022|\n",
            "|10999e91b9584feaf...|JF213744|            null|04/20/2022 01:49:...|                25|           NO CONTROLS|         NO CONTROLS|  CLOUDY/OVERCAST|            DAYLIGHT|          PEDESTRIAN|         NOT DIVIDED|    null|STRAIGHT AND LEVEL|                 DRY| NO DEFECTS|            ON SCENE|INJURY AND / OR T...|                  null|              null|         null|  OVER $1,500|04/20/2022 01:49:...|    UNABLE TO DETERMINE|        NOT APPLICABLE|     5558|               W|     HARRISON ST|              1522|          null|              null|     null|       null|          null|             null|        2|NONINCAPACITATING...|             1|             0|                      0|                          1|                            0|                     1|               0|        13|                4|          4|41.872946928|-87.763846086|POINT (-87.763846...|04/20/2022|\n",
            "|1150cae34874ef9b1...|JF213455|            null|04/20/2022 08:09:...|                30|           NO CONTROLS|         NO CONTROLS|            CLEAR|            DAYLIGHT|            REAR END|         NOT DIVIDED|    null|STRAIGHT AND LEVEL|                 DRY| NO DEFECTS|NOT ON SCENE (DES...|NO INJURY / DRIVE...|                  null|              null|         null|  OVER $1,500|04/20/2022 09:16:...|   FOLLOWING TOO CLO...|  FOLLOWING TOO CLO...|     3700|               W|         87TH ST|               834|          null|              null|     null|       null|          null|             null|        2|NO INDICATION OF ...|             0|             0|                      0|                          0|                            0|                     3|               0|         8|                4|          4|41.735091909| -87.71426814|POINT (-87.714268...|04/20/2022|\n",
            "|14b48502c210a6dc7...|JF214148|            null|04/20/2022 06:30:...|                15|           NO CONTROLS|         NO CONTROLS|             RAIN|                DUSK|SIDESWIPE OPPOSIT...|         NOT DIVIDED|    null|STRAIGHT AND LEVEL|                 WET| NO DEFECTS|            ON SCENE|NO INJURY / DRIVE...|                  null|              null|         null| $500 OR LESS|04/20/2022 06:59:...|    UNABLE TO DETERMINE|   UNABLE TO DETERMINE|     3628|               W|         32ND ST|              1032|          null|              null|     null|       null|          null|             null|        2|NO INDICATION OF ...|             0|             0|                      0|                          0|                            0|                     2|               0|        18|                4|          4|41.835315409|-87.715698721|POINT (-87.715698...|04/20/2022|\n",
            "|14b807863da2eb50d...|JF219140|            null|04/20/2022 06:00:...|                30|           NO CONTROLS|         NO CONTROLS|            CLEAR|            DAYLIGHT|               ANGLE|         NOT DIVIDED|    null| STRAIGHT ON GRADE|                 DRY| NO DEFECTS|NOT ON SCENE (DES...|NO INJURY / DRIVE...|                  null|              null|         null|$501 - $1,500|04/25/2022 08:40:...|   FAILING TO YIELD ...|        NOT APPLICABLE|     3442|               N|      RACINE AVE|              1924|          null|              null|     null|       null|          null|             null|        2|NO INDICATION OF ...|             0|             0|                      0|                          0|                            0|                     2|               0|        18|                4|          4|41.944763705| -87.65925627|POINT (-87.659256...|04/20/2022|\n",
            "|14dca219a326408ad...|JF213999|            null|04/20/2022 04:30:...|                30|           NO CONTROLS|         NO CONTROLS|            CLEAR|            DAYLIGHT|            REAR END|         NOT DIVIDED|    null|STRAIGHT AND LEVEL|                 DRY| NO DEFECTS|NOT ON SCENE (DES...|NO INJURY / DRIVE...|                  null|              null|            Y|  OVER $1,500|04/20/2022 05:30:...|   FOLLOWING TOO CLO...|  FOLLOWING TOO CLO...|     1300|               W|         59TH ST|               713|          null|              null|     null|       null|          null|             null|        2|NO INDICATION OF ...|             0|             0|                      0|                          0|                            0|                     5|               0|        16|                4|          4|41.786960077|-87.657176607|POINT (-87.657176...|04/20/2022|\n",
            "+--------------------+--------+----------------+--------------------+------------------+----------------------+--------------------+-----------------+--------------------+--------------------+--------------------+--------+------------------+--------------------+-----------+--------------------+--------------------+----------------------+------------------+-------------+-------------+--------------------+-----------------------+----------------------+---------+----------------+----------------+------------------+--------------+------------------+---------+-----------+--------------+-----------------+---------+--------------------+--------------+--------------+-----------------------+---------------------------+-----------------------------+----------------------+----------------+----------+-----------------+-----------+------------+-------------+--------------------+----------+\n",
            "only showing top 20 rows\n",
            "\n"
          ]
        }
      ]
    },
    {
      "cell_type": "code",
      "source": [
        "traffic_crashes=traffic_crashes.withColumn('year',(date_format(unix_timestamp(\"CRASH_DATE\", \"MM/dd/yyyy hh:mm:ss a\").cast(\"timestamp\"), \"yyyy\")))\n",
        "traffic_crashes=traffic_crashes.withColumn('month',(date_format(unix_timestamp(\"CRASH_DATE\", \"MM/dd/yyyy hh:mm:ss a\").cast(\"timestamp\"), \"MM\")))"
      ],
      "metadata": {
        "id": "PKA90-YU3tqR"
      },
      "execution_count": 135,
      "outputs": []
    },
    {
      "cell_type": "code",
      "source": [
        "traffic_crashes.show(5)"
      ],
      "metadata": {
        "colab": {
          "base_uri": "https://localhost:8080/"
        },
        "id": "Mxv2TTvfgngn",
        "outputId": "3178ccc8-6ae1-45ae-af62-f079e1ce45ea"
      },
      "execution_count": 136,
      "outputs": [
        {
          "output_type": "stream",
          "name": "stdout",
          "text": [
            "+--------------------+--------+----------------+--------------------+------------------+----------------------+--------------------+-----------------+--------------------+--------------------+--------------------+--------+------------------+--------------------+-----------+-----------+--------------------+----------------------+------------------+-------------+-------------+--------------------+-----------------------+----------------------+---------+----------------+----------------+------------------+--------------+------------------+---------+-----------+--------------+-----------------+---------+--------------------+--------------+--------------+-----------------------+---------------------------+-----------------------------+----------------------+----------------+----------+-----------------+-----------+------------+-------------+--------------------+----------+----+-----+\n",
            "|     CRASH_RECORD_ID|   RD_NO|CRASH_DATE_EST_I|          CRASH_DATE|POSTED_SPEED_LIMIT|TRAFFIC_CONTROL_DEVICE|    DEVICE_CONDITION|WEATHER_CONDITION|  LIGHTING_CONDITION|    FIRST_CRASH_TYPE|     TRAFFICWAY_TYPE|LANE_CNT|         ALIGNMENT|ROADWAY_SURFACE_COND|ROAD_DEFECT|REPORT_TYPE|          CRASH_TYPE|INTERSECTION_RELATED_I|NOT_RIGHT_OF_WAY_I|HIT_AND_RUN_I|       DAMAGE|DATE_POLICE_NOTIFIED|PRIM_CONTRIBUTORY_CAUSE|SEC_CONTRIBUTORY_CAUSE|STREET_NO|STREET_DIRECTION|     STREET_NAME|BEAT_OF_OCCURRENCE|PHOTOS_TAKEN_I|STATEMENTS_TAKEN_I|DOORING_I|WORK_ZONE_I|WORK_ZONE_TYPE|WORKERS_PRESENT_I|NUM_UNITS|  MOST_SEVERE_INJURY|INJURIES_TOTAL|INJURIES_FATAL|INJURIES_INCAPACITATING|INJURIES_NON_INCAPACITATING|INJURIES_REPORTED_NOT_EVIDENT|INJURIES_NO_INDICATION|INJURIES_UNKNOWN|CRASH_HOUR|CRASH_DAY_OF_WEEK|CRASH_MONTH|    LATITUDE|    LONGITUDE|            LOCATION|      Date|year|month|\n",
            "+--------------------+--------+----------------+--------------------+------------------+----------------------+--------------------+-----------------+--------------------+--------------------+--------------------+--------+------------------+--------------------+-----------+-----------+--------------------+----------------------+------------------+-------------+-------------+--------------------+-----------------------+----------------------+---------+----------------+----------------+------------------+--------------+------------------+---------+-----------+--------------+-----------------+---------+--------------------+--------------+--------------+-----------------------+---------------------------+-----------------------------+----------------------+----------------+----------+-----------------+-----------+------------+-------------+--------------------+----------+----+-----+\n",
            "|00bf78dfa54ff8430...|JF213955|            null|04/20/2022 04:32:...|                15|                 OTHER|               OTHER|            CLEAR|            DAYLIGHT|       REAR TO FRONT|         PARKING LOT|    null|STRAIGHT AND LEVEL|                 DRY| NO DEFECTS|   ON SCENE|NO INJURY / DRIVE...|                  null|              null|         null|  OVER $1,500|04/20/2022 04:47:...|    UNABLE TO DETERMINE|   UNABLE TO DETERMINE|     5450|               S|    MICHIGAN AVE|               225|          null|              null|     null|       null|          null|             null|        2|NO INDICATION OF ...|             0|             0|                      0|                          0|                            0|                     2|               0|        16|                4|          4|41.794997896|-87.622620128|POINT (-87.622620...|04/20/2022|2022|   04|\n",
            "|016eaf0b25d64bf09...|JE287447|            null|07/02/2021 03:40:...|                20|           NO CONTROLS|         NO CONTROLS|            CLEAR|            DAYLIGHT|SIDESWIPE SAME DI...|         NOT DIVIDED|    null|STRAIGHT AND LEVEL|                 DRY| NO DEFECTS|       null|NO INJURY / DRIVE...|                  null|              null|         null|  OVER $1,500|07/02/2021 03:45:...|   FAILING TO YIELD ...|  IMPROPER OVERTAKI...|     4760|               W|         76TH ST|               833|          null|              null|     null|       null|          null|             null|        2|NO INDICATION OF ...|             0|             0|                      0|                          0|                            0|                     2|               0|        15|                6|          7|        null|         null|                null|07/02/2021|2021|   07|\n",
            "|0277a7088d966e6e5...|JF214245|            null|04/20/2022 08:05:...|                30|        TRAFFIC SIGNAL|FUNCTIONING PROPERLY|             RAIN|            DARKNESS|          PEDESTRIAN|DIVIDED - W/MEDIA...|    null|STRAIGHT AND LEVEL|                 WET| NO DEFECTS|   ON SCENE|INJURY AND / OR T...|                  null|              null|         null|$501 - $1,500|04/20/2022 09:05:...|   FAILING TO YIELD ...|        NOT APPLICABLE|      151|               N|    MICHIGAN AVE|               114|          null|              null|     null|       null|          null|             null|        2|NONINCAPACITATING...|             1|             0|                      0|                          1|                            0|                     2|               0|        20|                4|          4|41.884540111|-87.624308522|POINT (-87.624308...|04/20/2022|2022|   04|\n",
            "|029f38eec2b3eb64b...|JF213684|            null|04/20/2022 12:30:...|                30|           NO CONTROLS|         NO CONTROLS|            CLEAR|            DAYLIGHT|SIDESWIPE SAME DI...|         NOT DIVIDED|    null|STRAIGHT AND LEVEL|                 DRY| NO DEFECTS|   ON SCENE|NO INJURY / DRIVE...|                  null|              null|         null|  OVER $1,500|04/20/2022 12:40:...|   DRIVING SKILLS/KN...|  DRIVING SKILLS/KN...|     9258|               S|STONY ISLAND AVE|               413|          null|              null|     null|       null|          null|             null|        2|NO INDICATION OF ...|             0|             0|                      0|                          0|                            0|                     2|               0|        12|                4|          4|41.726131037|-87.585561722|POINT (-87.585561...|04/20/2022|2022|   04|\n",
            "|036fcc00a862eb109...|JF213332|            null|04/20/2022 03:33:...|                30|           NO CONTROLS|         NO CONTROLS|            CLEAR|DARKNESS, LIGHTED...|PARKED MOTOR VEHICLE|         NOT DIVIDED|    null|STRAIGHT AND LEVEL|                 DRY| NO DEFECTS|   ON SCENE|INJURY AND / OR T...|                  null|                 N|            Y|  OVER $1,500|04/20/2022 03:33:...|   OPERATING VEHICLE...|   UNABLE TO DETERMINE|     1454|               E|         68TH ST|               332|          null|              null|     null|       null|          null|             null|        2|NO INDICATION OF ...|             0|             0|                      0|                          0|                            0|                     1|               0|         3|                4|          4|41.771595841|-87.588844673|POINT (-87.588844...|04/20/2022|2022|   04|\n",
            "+--------------------+--------+----------------+--------------------+------------------+----------------------+--------------------+-----------------+--------------------+--------------------+--------------------+--------+------------------+--------------------+-----------+-----------+--------------------+----------------------+------------------+-------------+-------------+--------------------+-----------------------+----------------------+---------+----------------+----------------+------------------+--------------+------------------+---------+-----------+--------------+-----------------+---------+--------------------+--------------+--------------+-----------------------+---------------------------+-----------------------------+----------------------+----------------+----------+-----------------+-----------+------------+-------------+--------------------+----------+----+-----+\n",
            "only showing top 5 rows\n",
            "\n"
          ]
        }
      ]
    },
    {
      "cell_type": "code",
      "source": [
        "from pyspark.sql.functions import count\n",
        "yearly_count=traffic_crashes.groupBy('year').agg(count('CRASH_RECORD_ID'))\n",
        "monthly_count=traffic_crashes.groupBy('year','month').agg(count('CRASH_RECORD_ID'))"
      ],
      "metadata": {
        "id": "fGBGLx44g1CO"
      },
      "execution_count": 137,
      "outputs": []
    },
    {
      "cell_type": "code",
      "source": [
        "yearly_count.show(20)\n",
        "monthly_count.show(20)"
      ],
      "metadata": {
        "colab": {
          "base_uri": "https://localhost:8080/"
        },
        "id": "oBvJzKXTg1AI",
        "outputId": "940fdacf-3666-4cb6-af42-475d61db53c8"
      },
      "execution_count": 138,
      "outputs": [
        {
          "output_type": "stream",
          "name": "stdout",
          "text": [
            "+----+----------------------+\n",
            "|year|count(CRASH_RECORD_ID)|\n",
            "+----+----------------------+\n",
            "|2016|                 44297|\n",
            "|2020|                 92106|\n",
            "|2019|                117761|\n",
            "|2017|                 83786|\n",
            "|2014|                     6|\n",
            "|2018|                118950|\n",
            "|2022|                 34506|\n",
            "|2021|                108784|\n",
            "|2015|                  9828|\n",
            "|2013|                     1|\n",
            "+----+----------------------+\n",
            "\n",
            "+----+-----+----------------------+\n",
            "|year|month|count(CRASH_RECORD_ID)|\n",
            "+----+-----+----------------------+\n",
            "|2016|   05|                  3091|\n",
            "|2015|   09|                  1524|\n",
            "|2017|   08|                  7685|\n",
            "|2020|   11|                  6963|\n",
            "|2020|   10|                  8357|\n",
            "|2018|   01|                  9532|\n",
            "|2018|   07|                 10367|\n",
            "|2019|   04|                  9446|\n",
            "|2015|   11|                  2606|\n",
            "|2018|   04|                  9648|\n",
            "|2021|   10|                 10272|\n",
            "|2018|   10|                 10402|\n",
            "|2017|   01|                  4363|\n",
            "|2021|   09|                  9898|\n",
            "|2017|   12|                 10108|\n",
            "|2016|   04|                  2902|\n",
            "|2019|   09|                  9815|\n",
            "|2019|   07|                 10660|\n",
            "|2019|   11|                  9640|\n",
            "|2015|   07|                    15|\n",
            "+----+-----+----------------------+\n",
            "only showing top 20 rows\n",
            "\n"
          ]
        }
      ]
    },
    {
      "cell_type": "code",
      "source": [
        ""
      ],
      "metadata": {
        "id": "FodLf6FJg0-F"
      },
      "execution_count": 138,
      "outputs": []
    },
    {
      "cell_type": "code",
      "source": [
        "monthly_count.select('*').where(monthly_count['year']=='2022').show(12)"
      ],
      "metadata": {
        "colab": {
          "base_uri": "https://localhost:8080/"
        },
        "id": "A4EmIfIgg07t",
        "outputId": "bdf79fcb-d0e6-4011-96bb-c195c07d6fce"
      },
      "execution_count": 139,
      "outputs": [
        {
          "output_type": "stream",
          "name": "stdout",
          "text": [
            "+----+-----+----------------------+\n",
            "|year|month|count(CRASH_RECORD_ID)|\n",
            "+----+-----+----------------------+\n",
            "|2022|   01|                  8202|\n",
            "|2022|   02|                  7962|\n",
            "|2022|   04|                  8444|\n",
            "|2022|   05|                  1351|\n",
            "|2022|   03|                  8547|\n",
            "+----+-----+----------------------+\n",
            "\n"
          ]
        }
      ]
    },
    {
      "cell_type": "code",
      "source": [
        "temp=monthly_count.select('*').where(monthly_count['year']=='2016')"
      ],
      "metadata": {
        "id": "OgD8-ZpWg05X"
      },
      "execution_count": 140,
      "outputs": []
    },
    {
      "cell_type": "code",
      "source": [
        "import pyspark.sql.functions as F   \n",
        "temp.groupBy('year').agg(F.sum('count(CRASH_RECORD_ID)')).show(10)"
      ],
      "metadata": {
        "colab": {
          "base_uri": "https://localhost:8080/"
        },
        "id": "eSUDWCE0g03E",
        "outputId": "f0da4082-640a-4ce1-8443-f32e4b287454"
      },
      "execution_count": 141,
      "outputs": [
        {
          "output_type": "stream",
          "name": "stdout",
          "text": [
            "+----+---------------------------+\n",
            "|year|sum(count(CRASH_RECORD_ID))|\n",
            "+----+---------------------------+\n",
            "|2016|                      44297|\n",
            "+----+---------------------------+\n",
            "\n"
          ]
        }
      ]
    },
    {
      "cell_type": "code",
      "source": [
        "traffic_crashes.show(4)"
      ],
      "metadata": {
        "colab": {
          "base_uri": "https://localhost:8080/"
        },
        "id": "tT2FXujbg0wx",
        "outputId": "e7921dc8-148e-4e64-bcf3-63224cb91171"
      },
      "execution_count": 142,
      "outputs": [
        {
          "output_type": "stream",
          "name": "stdout",
          "text": [
            "+--------------------+--------+----------------+--------------------+------------------+----------------------+--------------------+-----------------+------------------+--------------------+--------------------+--------+------------------+--------------------+-----------+-----------+--------------------+----------------------+------------------+-------------+-------------+--------------------+-----------------------+----------------------+---------+----------------+----------------+------------------+--------------+------------------+---------+-----------+--------------+-----------------+---------+--------------------+--------------+--------------+-----------------------+---------------------------+-----------------------------+----------------------+----------------+----------+-----------------+-----------+------------+-------------+--------------------+----------+----+-----+\n",
            "|     CRASH_RECORD_ID|   RD_NO|CRASH_DATE_EST_I|          CRASH_DATE|POSTED_SPEED_LIMIT|TRAFFIC_CONTROL_DEVICE|    DEVICE_CONDITION|WEATHER_CONDITION|LIGHTING_CONDITION|    FIRST_CRASH_TYPE|     TRAFFICWAY_TYPE|LANE_CNT|         ALIGNMENT|ROADWAY_SURFACE_COND|ROAD_DEFECT|REPORT_TYPE|          CRASH_TYPE|INTERSECTION_RELATED_I|NOT_RIGHT_OF_WAY_I|HIT_AND_RUN_I|       DAMAGE|DATE_POLICE_NOTIFIED|PRIM_CONTRIBUTORY_CAUSE|SEC_CONTRIBUTORY_CAUSE|STREET_NO|STREET_DIRECTION|     STREET_NAME|BEAT_OF_OCCURRENCE|PHOTOS_TAKEN_I|STATEMENTS_TAKEN_I|DOORING_I|WORK_ZONE_I|WORK_ZONE_TYPE|WORKERS_PRESENT_I|NUM_UNITS|  MOST_SEVERE_INJURY|INJURIES_TOTAL|INJURIES_FATAL|INJURIES_INCAPACITATING|INJURIES_NON_INCAPACITATING|INJURIES_REPORTED_NOT_EVIDENT|INJURIES_NO_INDICATION|INJURIES_UNKNOWN|CRASH_HOUR|CRASH_DAY_OF_WEEK|CRASH_MONTH|    LATITUDE|    LONGITUDE|            LOCATION|      Date|year|month|\n",
            "+--------------------+--------+----------------+--------------------+------------------+----------------------+--------------------+-----------------+------------------+--------------------+--------------------+--------+------------------+--------------------+-----------+-----------+--------------------+----------------------+------------------+-------------+-------------+--------------------+-----------------------+----------------------+---------+----------------+----------------+------------------+--------------+------------------+---------+-----------+--------------+-----------------+---------+--------------------+--------------+--------------+-----------------------+---------------------------+-----------------------------+----------------------+----------------+----------+-----------------+-----------+------------+-------------+--------------------+----------+----+-----+\n",
            "|00bf78dfa54ff8430...|JF213955|            null|04/20/2022 04:32:...|                15|                 OTHER|               OTHER|            CLEAR|          DAYLIGHT|       REAR TO FRONT|         PARKING LOT|    null|STRAIGHT AND LEVEL|                 DRY| NO DEFECTS|   ON SCENE|NO INJURY / DRIVE...|                  null|              null|         null|  OVER $1,500|04/20/2022 04:47:...|    UNABLE TO DETERMINE|   UNABLE TO DETERMINE|     5450|               S|    MICHIGAN AVE|               225|          null|              null|     null|       null|          null|             null|        2|NO INDICATION OF ...|             0|             0|                      0|                          0|                            0|                     2|               0|        16|                4|          4|41.794997896|-87.622620128|POINT (-87.622620...|04/20/2022|2022|   04|\n",
            "|016eaf0b25d64bf09...|JE287447|            null|07/02/2021 03:40:...|                20|           NO CONTROLS|         NO CONTROLS|            CLEAR|          DAYLIGHT|SIDESWIPE SAME DI...|         NOT DIVIDED|    null|STRAIGHT AND LEVEL|                 DRY| NO DEFECTS|       null|NO INJURY / DRIVE...|                  null|              null|         null|  OVER $1,500|07/02/2021 03:45:...|   FAILING TO YIELD ...|  IMPROPER OVERTAKI...|     4760|               W|         76TH ST|               833|          null|              null|     null|       null|          null|             null|        2|NO INDICATION OF ...|             0|             0|                      0|                          0|                            0|                     2|               0|        15|                6|          7|        null|         null|                null|07/02/2021|2021|   07|\n",
            "|0277a7088d966e6e5...|JF214245|            null|04/20/2022 08:05:...|                30|        TRAFFIC SIGNAL|FUNCTIONING PROPERLY|             RAIN|          DARKNESS|          PEDESTRIAN|DIVIDED - W/MEDIA...|    null|STRAIGHT AND LEVEL|                 WET| NO DEFECTS|   ON SCENE|INJURY AND / OR T...|                  null|              null|         null|$501 - $1,500|04/20/2022 09:05:...|   FAILING TO YIELD ...|        NOT APPLICABLE|      151|               N|    MICHIGAN AVE|               114|          null|              null|     null|       null|          null|             null|        2|NONINCAPACITATING...|             1|             0|                      0|                          1|                            0|                     2|               0|        20|                4|          4|41.884540111|-87.624308522|POINT (-87.624308...|04/20/2022|2022|   04|\n",
            "|029f38eec2b3eb64b...|JF213684|            null|04/20/2022 12:30:...|                30|           NO CONTROLS|         NO CONTROLS|            CLEAR|          DAYLIGHT|SIDESWIPE SAME DI...|         NOT DIVIDED|    null|STRAIGHT AND LEVEL|                 DRY| NO DEFECTS|   ON SCENE|NO INJURY / DRIVE...|                  null|              null|         null|  OVER $1,500|04/20/2022 12:40:...|   DRIVING SKILLS/KN...|  DRIVING SKILLS/KN...|     9258|               S|STONY ISLAND AVE|               413|          null|              null|     null|       null|          null|             null|        2|NO INDICATION OF ...|             0|             0|                      0|                          0|                            0|                     2|               0|        12|                4|          4|41.726131037|-87.585561722|POINT (-87.585561...|04/20/2022|2022|   04|\n",
            "+--------------------+--------+----------------+--------------------+------------------+----------------------+--------------------+-----------------+------------------+--------------------+--------------------+--------+------------------+--------------------+-----------+-----------+--------------------+----------------------+------------------+-------------+-------------+--------------------+-----------------------+----------------------+---------+----------------+----------------+------------------+--------------+------------------+---------+-----------+--------------+-----------------+---------+--------------------+--------------+--------------+-----------------------+---------------------------+-----------------------------+----------------------+----------------+----------+-----------------+-----------+------------+-------------+--------------------+----------+----+-----+\n",
            "only showing top 4 rows\n",
            "\n"
          ]
        }
      ]
    },
    {
      "cell_type": "code",
      "source": [
        ""
      ],
      "metadata": {
        "id": "nBPB9ijWg0ub"
      },
      "execution_count": 142,
      "outputs": []
    },
    {
      "cell_type": "code",
      "source": [
        ""
      ],
      "metadata": {
        "id": "nQta4Hxhg0sm"
      },
      "execution_count": 142,
      "outputs": []
    },
    {
      "cell_type": "code",
      "source": [
        ""
      ],
      "metadata": {
        "id": "KzzLtC-plGm8"
      },
      "execution_count": 142,
      "outputs": []
    },
    {
      "cell_type": "code",
      "source": [
        "traffic_crashes_filtered=traffic_crashes.na.drop(subset=[\"CRASH_DATE\",\"LATITUDE\",\"LONGITUDE\"])\n"
      ],
      "metadata": {
        "id": "Tu3GYDRJlGd9"
      },
      "execution_count": 143,
      "outputs": []
    },
    {
      "cell_type": "code",
      "source": [
        "traffic_crashes_filtered=traffic_crashes_filtered.filter(traffic_crashes_filtered.LATITUDE!=0.0)\n",
        "traffic_crashes_filtered=traffic_crashes_filtered.filter(traffic_crashes_filtered.LONGITUDE!=0.0)"
      ],
      "metadata": {
        "id": "J7-wCc6Bg0qB"
      },
      "execution_count": 144,
      "outputs": []
    },
    {
      "cell_type": "code",
      "source": [
        "import pyspark"
      ],
      "metadata": {
        "id": "gm_w2q31reug"
      },
      "execution_count": 145,
      "outputs": []
    },
    {
      "cell_type": "code",
      "source": [
        "import math\n",
        "def getBins(val):\n",
        "  val=float(val)\n",
        "  #print(val)\n",
        "  bin=math.floor(val/0.15)*0.15\n",
        "  return bin\n",
        "\n",
        "getBinsUDF=pyspark.sql.functions.udf(getBins)"
      ],
      "metadata": {
        "id": "KcYmqgVrnu6h"
      },
      "execution_count": 146,
      "outputs": []
    },
    {
      "cell_type": "code",
      "source": [
        "#getBins(\"1\")\n",
        "temp=traffic_crashes_filtered.withColumn('latBin',getBinsUDF('LATITUDE'))\n",
        "temp=temp.withColumn('longBin',getBinsUDF('LONGITUDE'))"
      ],
      "metadata": {
        "id": "d-ef_9vnnu37"
      },
      "execution_count": 163,
      "outputs": []
    },
    {
      "cell_type": "code",
      "source": [
        "temp.select('*').where((temp['latBin']==0.0) & (temp['longBin']==0.0)).show()"
      ],
      "metadata": {
        "colab": {
          "base_uri": "https://localhost:8080/"
        },
        "id": "--IOEutlu8Tm",
        "outputId": "ec953a2c-d018-435a-834a-9c3680a33cfe"
      },
      "execution_count": 148,
      "outputs": [
        {
          "output_type": "stream",
          "name": "stdout",
          "text": [
            "+---------------+-----+----------------+----------+------------------+----------------------+----------------+-----------------+------------------+----------------+---------------+--------+---------+--------------------+-----------+-----------+----------+----------------------+------------------+-------------+------+--------------------+-----------------------+----------------------+---------+----------------+-----------+------------------+--------------+------------------+---------+-----------+--------------+-----------------+---------+------------------+--------------+--------------+-----------------------+---------------------------+-----------------------------+----------------------+----------------+----------+-----------------+-----------+--------+---------+--------+----+----+-----+------+-------+\n",
            "|CRASH_RECORD_ID|RD_NO|CRASH_DATE_EST_I|CRASH_DATE|POSTED_SPEED_LIMIT|TRAFFIC_CONTROL_DEVICE|DEVICE_CONDITION|WEATHER_CONDITION|LIGHTING_CONDITION|FIRST_CRASH_TYPE|TRAFFICWAY_TYPE|LANE_CNT|ALIGNMENT|ROADWAY_SURFACE_COND|ROAD_DEFECT|REPORT_TYPE|CRASH_TYPE|INTERSECTION_RELATED_I|NOT_RIGHT_OF_WAY_I|HIT_AND_RUN_I|DAMAGE|DATE_POLICE_NOTIFIED|PRIM_CONTRIBUTORY_CAUSE|SEC_CONTRIBUTORY_CAUSE|STREET_NO|STREET_DIRECTION|STREET_NAME|BEAT_OF_OCCURRENCE|PHOTOS_TAKEN_I|STATEMENTS_TAKEN_I|DOORING_I|WORK_ZONE_I|WORK_ZONE_TYPE|WORKERS_PRESENT_I|NUM_UNITS|MOST_SEVERE_INJURY|INJURIES_TOTAL|INJURIES_FATAL|INJURIES_INCAPACITATING|INJURIES_NON_INCAPACITATING|INJURIES_REPORTED_NOT_EVIDENT|INJURIES_NO_INDICATION|INJURIES_UNKNOWN|CRASH_HOUR|CRASH_DAY_OF_WEEK|CRASH_MONTH|LATITUDE|LONGITUDE|LOCATION|Date|year|month|latBin|longBin|\n",
            "+---------------+-----+----------------+----------+------------------+----------------------+----------------+-----------------+------------------+----------------+---------------+--------+---------+--------------------+-----------+-----------+----------+----------------------+------------------+-------------+------+--------------------+-----------------------+----------------------+---------+----------------+-----------+------------------+--------------+------------------+---------+-----------+--------------+-----------------+---------+------------------+--------------+--------------+-----------------------+---------------------------+-----------------------------+----------------------+----------------+----------+-----------------+-----------+--------+---------+--------+----+----+-----+------+-------+\n",
            "+---------------+-----+----------------+----------+------------------+----------------------+----------------+-----------------+------------------+----------------+---------------+--------+---------+--------------------+-----------+-----------+----------+----------------------+------------------+-------------+------+--------------------+-----------------------+----------------------+---------+----------------+-----------+------------------+--------------+------------------+---------+-----------+--------------+-----------------+---------+------------------+--------------+--------------+-----------------------+---------------------------+-----------------------------+----------------------+----------------+----------+-----------------+-----------+--------+---------+--------+----+----+-----+------+-------+\n",
            "\n"
          ]
        }
      ]
    },
    {
      "cell_type": "code",
      "source": [
        "temp.select('DAMAGE').distinct().show()"
      ],
      "metadata": {
        "colab": {
          "base_uri": "https://localhost:8080/"
        },
        "id": "1ucqep6Mu8Ra",
        "outputId": "3c200400-f8e9-4da3-b112-609afbf21caf"
      },
      "execution_count": 169,
      "outputs": [
        {
          "output_type": "stream",
          "name": "stdout",
          "text": [
            "+------+\n",
            "|DAMAGE|\n",
            "+------+\n",
            "|  1500|\n",
            "|  1000|\n",
            "|   500|\n",
            "+------+\n",
            "\n"
          ]
        }
      ]
    },
    {
      "cell_type": "code",
      "source": [
        "temp=temp.withColumn('DAMAGE',F.when(temp.DAMAGE==\"OVER $1,500\",1500).otherwise(temp.DAMAGE))\n",
        "temp=temp.withColumn('DAMAGE',F.when(temp.DAMAGE==\"$501 - $1,500\",1000).otherwise(temp.DAMAGE))\n",
        "temp=temp.withColumn('DAMAGE',F.when(temp.DAMAGE==\"$500 OR LESS\",500).otherwise(temp.DAMAGE))\n"
      ],
      "metadata": {
        "id": "WcJVPNiiUe6o"
      },
      "execution_count": 168,
      "outputs": []
    },
    {
      "cell_type": "code",
      "source": [
        "temp.select('HIT_AND_RUN_I').distinct().show()"
      ],
      "metadata": {
        "colab": {
          "base_uri": "https://localhost:8080/"
        },
        "id": "PJufbWRGu8OF",
        "outputId": "dcf2e284-4769-46b0-81fd-8a48a358032a"
      },
      "execution_count": 149,
      "outputs": [
        {
          "output_type": "stream",
          "name": "stdout",
          "text": [
            "+-------------+\n",
            "|HIT_AND_RUN_I|\n",
            "+-------------+\n",
            "|         null|\n",
            "|            Y|\n",
            "|            N|\n",
            "+-------------+\n",
            "\n"
          ]
        }
      ]
    },
    {
      "cell_type": "code",
      "source": [
        "from pyspark.sql.functions import countDistinct\n",
        "#agg(count(when(col(\"col_2\") == 'X',1)))\n",
        "temp.groupBy('year','month','latBin','longBin').agg(count(F.col('CRASH_RECORD_ID')),F.sum(F.col('INJURIES_TOTAL')),count(F.when(F.col('HIT_AND_RUN_I')=='Y',1)),F.sum(F.col('DAMAGE'),)).show()"
      ],
      "metadata": {
        "colab": {
          "base_uri": "https://localhost:8080/"
        },
        "id": "qCFBFUFsnu0k",
        "outputId": "d0dbd94c-df02-4dc5-866c-8fcf865a6b5e"
      },
      "execution_count": 175,
      "outputs": [
        {
          "output_type": "stream",
          "name": "stdout",
          "text": [
            "+----+-----+------------------+------------------+----------------------+-------------------+-----------------------------------------------+-----------+\n",
            "|year|month|            latBin|           longBin|count(CRASH_RECORD_ID)|sum(INJURIES_TOTAL)|count(CASE WHEN (HIT_AND_RUN_I = Y) THEN 1 END)|sum(DAMAGE)|\n",
            "+----+-----+------------------+------------------+----------------------+-------------------+-----------------------------------------------+-----------+\n",
            "|2022|   03|41.699999999999996|-87.89999999999999|                   125|                 13|                                             36|   158000.0|\n",
            "|2019|   12|              42.0|-87.89999999999999|                    22|                  4|                                              5|    30500.0|\n",
            "|2021|   03|              42.0|            -87.75|                   120|                 20|                                             40|   144500.0|\n",
            "|2017|   03|             41.55|            -87.75|                   119|                  6|                                             41|   143500.0|\n",
            "|2016|   07|             41.85|-87.89999999999999|                   166|                 13|                                             47|   205000.0|\n",
            "|2017|   05|             41.85|            -87.75|                  2899|                287|                                            686|  3395000.0|\n",
            "|2021|   06|              42.0|-87.89999999999999|                    16|                  1|                                              3|    21500.0|\n",
            "|2020|   05|             41.85|            -88.05|                     4|                  1|                                              0|     5000.0|\n",
            "|2018|   03|41.699999999999996|-87.89999999999999|                    91|                 15|                                             21|   115500.0|\n",
            "|2020|   09|41.699999999999996|             -87.6|                   643|                160|                                            265|   826000.0|\n",
            "|2018|   12|41.699999999999996|            -87.75|                  2734|                638|                                            862|  3354000.0|\n",
            "|2015|   12|             41.85|-87.89999999999999|                   148|                  7|                                             48|   175500.0|\n",
            "|2019|   11|             41.85|            -87.75|                  4578|                814|                                           1040|  5564000.0|\n",
            "|2019|   07|             41.85|-87.89999999999999|                  1068|                260|                                            322|  1316000.0|\n",
            "|2017|   10|             41.55|             -87.6|                    55|                 12|                                             11|    70000.0|\n",
            "|2021|   05|              42.0|-87.89999999999999|                    16|                  1|                                              4|    21000.0|\n",
            "|2019|   11|41.699999999999996|            -87.75|                  2616|                556|                                            758|  3280500.0|\n",
            "|2016|   04|41.699999999999996|-87.89999999999999|                    32|                  0|                                              7|    42500.0|\n",
            "|2021|   03|41.699999999999996|            -87.75|                  2599|                537|                                            960|  3365500.0|\n",
            "|2021|   09|41.699999999999996|             -87.6|                   697|                160|                                            273|   890500.0|\n",
            "+----+-----+------------------+------------------+----------------------+-------------------+-----------------------------------------------+-----------+\n",
            "only showing top 20 rows\n",
            "\n"
          ]
        }
      ]
    },
    {
      "cell_type": "code",
      "source": [
        ""
      ],
      "metadata": {
        "colab": {
          "base_uri": "https://localhost:8080/"
        },
        "id": "Yshml0wPum_H",
        "outputId": "895fa5cf-7e0e-422a-9b27-8cdf5ad2328a"
      },
      "execution_count": 151,
      "outputs": [
        {
          "output_type": "stream",
          "name": "stdout",
          "text": [
            "+------------------+------------------+\n",
            "|            latBin|           longBin|\n",
            "+------------------+------------------+\n",
            "|41.699999999999996|            -87.75|\n",
            "|             41.85|-87.89999999999999|\n",
            "|             41.55|             -87.6|\n",
            "|              42.0|            -88.05|\n",
            "|41.699999999999996|             -87.6|\n",
            "|             41.55|            -87.75|\n",
            "|              42.0|            -87.75|\n",
            "|             41.85|            -87.75|\n",
            "|41.699999999999996|-87.89999999999999|\n",
            "|             41.85|            -88.05|\n",
            "|              42.0|-87.89999999999999|\n",
            "+------------------+------------------+\n",
            "\n"
          ]
        }
      ]
    },
    {
      "cell_type": "markdown",
      "source": [
        ""
      ],
      "metadata": {
        "id": "QJF2kPf5fojl"
      }
    }
  ]
}